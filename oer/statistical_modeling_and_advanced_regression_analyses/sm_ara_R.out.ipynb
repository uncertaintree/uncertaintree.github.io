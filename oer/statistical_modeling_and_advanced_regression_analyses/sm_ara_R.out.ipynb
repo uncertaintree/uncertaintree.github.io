{
 "cells": [
  {
   "cell_type": "markdown",
   "metadata": {},
   "source": [
    "# Statictical Modeling and Advanced Regression Analyses\n",
    "\n",
    "R Tutorials\n",
    "\n",
    "Holger Sennhenn-Reulen [![](data:image/png;base64,iVBORw0KGgoAAAANSUhEUgAAABAAAAAQCAYAAAAf8/9hAAAAGXRFWHRTb2Z0d2FyZQBBZG9iZSBJbWFnZVJlYWR5ccllPAAAA2ZpVFh0WE1MOmNvbS5hZG9iZS54bXAAAAAAADw/eHBhY2tldCBiZWdpbj0i77u/IiBpZD0iVzVNME1wQ2VoaUh6cmVTek5UY3prYzlkIj8+IDx4OnhtcG1ldGEgeG1sbnM6eD0iYWRvYmU6bnM6bWV0YS8iIHg6eG1wdGs9IkFkb2JlIFhNUCBDb3JlIDUuMC1jMDYwIDYxLjEzNDc3NywgMjAxMC8wMi8xMi0xNzozMjowMCAgICAgICAgIj4gPHJkZjpSREYgeG1sbnM6cmRmPSJodHRwOi8vd3d3LnczLm9yZy8xOTk5LzAyLzIyLXJkZi1zeW50YXgtbnMjIj4gPHJkZjpEZXNjcmlwdGlvbiByZGY6YWJvdXQ9IiIgeG1sbnM6eG1wTU09Imh0dHA6Ly9ucy5hZG9iZS5jb20veGFwLzEuMC9tbS8iIHhtbG5zOnN0UmVmPSJodHRwOi8vbnMuYWRvYmUuY29tL3hhcC8xLjAvc1R5cGUvUmVzb3VyY2VSZWYjIiB4bWxuczp4bXA9Imh0dHA6Ly9ucy5hZG9iZS5jb20veGFwLzEuMC8iIHhtcE1NOk9yaWdpbmFsRG9jdW1lbnRJRD0ieG1wLmRpZDo1N0NEMjA4MDI1MjA2ODExOTk0QzkzNTEzRjZEQTg1NyIgeG1wTU06RG9jdW1lbnRJRD0ieG1wLmRpZDozM0NDOEJGNEZGNTcxMUUxODdBOEVCODg2RjdCQ0QwOSIgeG1wTU06SW5zdGFuY2VJRD0ieG1wLmlpZDozM0NDOEJGM0ZGNTcxMUUxODdBOEVCODg2RjdCQ0QwOSIgeG1wOkNyZWF0b3JUb29sPSJBZG9iZSBQaG90b3Nob3AgQ1M1IE1hY2ludG9zaCI+IDx4bXBNTTpEZXJpdmVkRnJvbSBzdFJlZjppbnN0YW5jZUlEPSJ4bXAuaWlkOkZDN0YxMTc0MDcyMDY4MTE5NUZFRDc5MUM2MUUwNEREIiBzdFJlZjpkb2N1bWVudElEPSJ4bXAuZGlkOjU3Q0QyMDgwMjUyMDY4MTE5OTRDOTM1MTNGNkRBODU3Ii8+IDwvcmRmOkRlc2NyaXB0aW9uPiA8L3JkZjpSREY+IDwveDp4bXBtZXRhPiA8P3hwYWNrZXQgZW5kPSJyIj8+84NovQAAAR1JREFUeNpiZEADy85ZJgCpeCB2QJM6AMQLo4yOL0AWZETSqACk1gOxAQN+cAGIA4EGPQBxmJA0nwdpjjQ8xqArmczw5tMHXAaALDgP1QMxAGqzAAPxQACqh4ER6uf5MBlkm0X4EGayMfMw/Pr7Bd2gRBZogMFBrv01hisv5jLsv9nLAPIOMnjy8RDDyYctyAbFM2EJbRQw+aAWw/LzVgx7b+cwCHKqMhjJFCBLOzAR6+lXX84xnHjYyqAo5IUizkRCwIENQQckGSDGY4TVgAPEaraQr2a4/24bSuoExcJCfAEJihXkWDj3ZAKy9EJGaEo8T0QSxkjSwORsCAuDQCD+QILmD1A9kECEZgxDaEZhICIzGcIyEyOl2RkgwAAhkmC+eAm0TAAAAABJRU5ErkJggg==)](https://orcid.org/0000-0002-4782-4387) (Northwest German Forest Research Institute (NW-FVA))  \n",
    "December 4, 2024"
   ],
   "id": "7d91f60b-4c11-467d-ae85-a373e1f45c35"
  },
  {
   "cell_type": "raw",
   "metadata": {
    "raw_mimetype": "text/html"
   },
   "source": [
    "<!-- ```{r} -->"
   ],
   "id": "bde04691-a441-4e42-8a9e-6bec0e1052b8"
  },
  {
   "cell_type": "raw",
   "metadata": {
    "raw_mimetype": "text/html"
   },
   "source": [
    "<!-- if(knitr::is_latex_output()) { -->"
   ],
   "id": "9fb86354-4c32-4d92-b927-471b51d678cb"
  },
  {
   "cell_type": "raw",
   "metadata": {
    "raw_mimetype": "text/html"
   },
   "source": [
    "<!--   knitr::opts_chunk$set(dev = 'tikz') -->"
   ],
   "id": "e5ffd29a-cc71-4cd8-a5b8-a1136a28d7eb"
  },
  {
   "cell_type": "raw",
   "metadata": {
    "raw_mimetype": "text/html"
   },
   "source": [
    "<!--   options(tikzDocumentDeclaration = \"\\\\documentclass{article}\\n\\\\usepackage[lining]{ebgaramond}\") -->"
   ],
   "id": "1c1e4aad-39e0-40ba-bd34-5bb0821027ed"
  },
  {
   "cell_type": "raw",
   "metadata": {
    "raw_mimetype": "text/html"
   },
   "source": [
    "<!-- } -->"
   ],
   "id": "cd2661c6-bb63-4761-91a3-68fb19c39279"
  },
  {
   "cell_type": "raw",
   "metadata": {
    "raw_mimetype": "text/html"
   },
   "source": [
    "<!-- ``` -->"
   ],
   "id": "5dff7aa0-9cc2-4078-8a67-da84b5ffefea"
  },
  {
   "cell_type": "markdown",
   "metadata": {},
   "source": [
    "# Software\n",
    "\n",
    "We use the statistical software environment *R* ([R Core Team, 2024](#ref-RCoreTeam2024)), and R add-on packages *ggplot2* ([Wickham, 2016](#ref-Wickham2016))."
   ],
   "id": "98dbb384-a67a-4394-a9d9-7ad4d0eac19a"
  },
  {
   "cell_type": "raw",
   "metadata": {
    "raw_mimetype": "text/html"
   },
   "source": [
    "<!-- and *plyr* [@Wickham2011].  -->"
   ],
   "id": "3d0a505e-0293-4073-86bf-b1cfea36b701"
  },
  {
   "cell_type": "raw",
   "metadata": {
    "raw_mimetype": "text/html"
   },
   "source": [
    "<!-- *colorspace* [@StaufferEtAl2009] -->"
   ],
   "id": "3bc49990-ea71-4d90-9be9-c2182d9d1ad6"
  },
  {
   "cell_type": "raw",
   "metadata": {
    "raw_mimetype": "text/html"
   },
   "source": [
    "<!-- **cowplot** [@Wilke2023] -->"
   ],
   "id": "75e5998c-f011-4950-b545-f77a13099916"
  },
  {
   "cell_type": "markdown",
   "metadata": {},
   "source": [
    "This document is produced using *Quarto* ([Allaire et al., 2024](#ref-AllaireEtAl2024)). <!-- Graphics in the PDF version are rendered using R add-on package *tikzDevice* [@SharpsteenBracken2023].  -->\n",
    "\n",
    "## Organize R Session"
   ],
   "id": "9283f016-f028-4655-b46e-b48a09b1d9b6"
  },
  {
   "cell_type": "code",
   "execution_count": null,
   "metadata": {},
   "outputs": [],
   "source": [
    "rm(list = ls())\n",
    "library(\"ggplot2\")"
   ],
   "id": "07bdd104-4e67-4bbb-983f-aa0da82fae7a"
  },
  {
   "cell_type": "markdown",
   "metadata": {},
   "source": [
    "# Linear Regression Model\n",
    "\n",
    "## Data Simulation\n",
    "\n",
    "Data are simulated according to the equations given in the lecture slides[1]:\n",
    "\n",
    "[1] For two covariates `x_1` and `x_2`."
   ],
   "id": "24804835-8768-4200-b283-7e576e33de78"
  },
  {
   "cell_type": "code",
   "execution_count": null,
   "metadata": {},
   "outputs": [
    {
     "output_type": "stream",
     "name": "stdout",
     "text": [
      "[1] 0.9398107"
     ]
    },
    {
     "output_type": "stream",
     "name": "stdout",
     "text": [
      "[1] 0.9006301"
     ]
    },
    {
     "output_type": "stream",
     "name": "stdout",
     "text": [
      "[1] -0.3973215"
     ]
    },
    {
     "output_type": "stream",
     "name": "stdout",
     "text": [
      "[1] 0.293026"
     ]
    }
   ],
   "source": [
    "set.seed(123)\n",
    "N <- 500\n",
    "df <- data.frame(x_1 = runif(n = N), \n",
    "                 x_2 = runif(n = N))\n",
    "(beta_0 <- rnorm(n = 1, mean = 1, sd = .1))"
   ],
   "id": "455ba6c4-7f82-47be-94d4-d00f797a2748"
  },
  {
   "cell_type": "markdown",
   "metadata": {},
   "source": [
    "### Visualisations"
   ],
   "id": "41a959eb-a5cd-4071-94aa-4fa00643295f"
  },
  {
   "cell_type": "code",
   "execution_count": null,
   "metadata": {},
   "outputs": [
    {
     "output_type": "display_data",
     "metadata": {},
     "data": {}
    }
   ],
   "source": [
    "ggplot(data = df, aes(x = x_1, y = x_2)) + \n",
    "  geom_point()"
   ],
   "id": "cell-fig-plotlmsimA"
  },
  {
   "cell_type": "code",
   "execution_count": null,
   "metadata": {},
   "outputs": [
    {
     "output_type": "display_data",
     "metadata": {},
     "data": {}
    }
   ],
   "source": [
    "ggplot(data = df, aes(x = x_1, y = mu, color = x_2)) + \n",
    "  geom_point()"
   ],
   "id": "cell-fig-plotlmsimB"
  },
  {
   "cell_type": "code",
   "execution_count": null,
   "metadata": {},
   "outputs": [
    {
     "output_type": "display_data",
     "metadata": {},
     "data": {}
    }
   ],
   "source": [
    "ggplot(data = df, aes(x = x_2, y = mu, color = x_1)) + \n",
    "  geom_point()"
   ],
   "id": "cell-fig-plotlmsimC"
  },
  {
   "cell_type": "code",
   "execution_count": null,
   "metadata": {},
   "outputs": [
    {
     "output_type": "display_data",
     "metadata": {},
     "data": {}
    }
   ],
   "source": [
    "ggplot(data = df, aes(x = x_1, y = x_2, color = mu)) + \n",
    "  geom_point()"
   ],
   "id": "cell-fig-plotlmsimD"
  },
  {
   "cell_type": "code",
   "execution_count": null,
   "metadata": {},
   "outputs": [
    {
     "output_type": "display_data",
     "metadata": {},
     "data": {}
    }
   ],
   "source": [
    "ggplot(data = df, aes(x = x_1, y = x_2, color = y)) + \n",
    "  geom_point()"
   ],
   "id": "cell-fig-plotlmsimE"
  },
  {
   "cell_type": "markdown",
   "metadata": {},
   "source": [
    "## Modeling\n",
    "\n",
    "The basic R command for (frequentist) estimation of the parameters of a linear regression model is a call to the function `lm`:"
   ],
   "id": "bf4b13c0-4fb8-4fd7-a32b-b26427dce0f6"
  },
  {
   "cell_type": "code",
   "execution_count": null,
   "metadata": {},
   "outputs": [
    {
     "output_type": "stream",
     "name": "stdout",
     "text": [
      "\n",
      "Call:\n",
      "lm(formula = y ~ x_1 + x_2, data = df)\n",
      "\n",
      "Residuals:\n",
      "     Min       1Q   Median       3Q      Max \n",
      "-0.82082 -0.19805  0.00329  0.19051  0.81138 \n",
      "\n",
      "Coefficients:\n",
      "            Estimate Std. Error t value Pr(>|t|)    \n",
      "(Intercept)  0.91291    0.03448  26.476  < 2e-16 ***\n",
      "x_1          0.91533    0.04668  19.610  < 2e-16 ***\n",
      "x_2         -0.36218    0.04566  -7.933 1.43e-14 ***\n",
      "---\n",
      "Signif. codes:  0 '***' 0.001 '**' 0.01 '*' 0.05 '.' 0.1 ' ' 1\n",
      "\n",
      "Residual standard error: 0.2963 on 497 degrees of freedom\n",
      "Multiple R-squared:  0.4674,    Adjusted R-squared:  0.4652 \n",
      "F-statistic:   218 on 2 and 497 DF,  p-value: < 2.2e-16"
     ]
    }
   ],
   "source": [
    "m <- lm(y ~ x_1 + x_2, data = df)\n",
    "summary(m)"
   ],
   "id": "c226c83e-367c-4324-ad7d-a64175194c72"
  },
  {
   "cell_type": "markdown",
   "metadata": {},
   "source": [
    "### Visualisations"
   ],
   "id": "d548b5fb-8862-4a29-ab29-bb0be6bae37d"
  },
  {
   "cell_type": "code",
   "execution_count": null,
   "metadata": {},
   "outputs": [
    {
     "output_type": "display_data",
     "metadata": {},
     "data": {}
    }
   ],
   "source": [
    "nd <- data.frame(x_1 = seq(0, 1, by = .1), \n",
    "                 x_2 = .5)\n",
    "nd$mu <- predict(m, newdata = nd)\n",
    "ggplot(data = df, aes(x = x_1, y = mu, color = x_2)) + \n",
    "  geom_point() + \n",
    "  geom_line(data = nd, aes(x = x_1, y = mu, color = x_2))"
   ],
   "id": "cell-fig-plotlmsimF"
  },
  {
   "cell_type": "code",
   "execution_count": null,
   "metadata": {},
   "outputs": [
    {
     "output_type": "display_data",
     "metadata": {},
     "data": {}
    }
   ],
   "source": [
    "nd <- data.frame(expand.grid('x_1' = seq(0, 1, by = .1), \n",
    "                             'x_2' = seq(0, 1, by = .1)))\n",
    "nd$mu <- predict(m, newdata = nd)\n",
    "ggplot(data = df, aes(x = x_1, y = mu, color = x_2)) + \n",
    "  geom_point() + \n",
    "  geom_line(data = nd, aes(x = x_1, y = mu, color = x_2, group = x_2))"
   ],
   "id": "cell-fig-plotlmsimG"
  },
  {
   "cell_type": "markdown",
   "metadata": {},
   "source": [
    "## Add-Ons\n",
    "\n",
    "### Add-On Linear Model: A) Stancode\n",
    "\n",
    "#### Stan Users Guide\n",
    "\n",
    "*Probabilistic Programming Languages* such as *Stan* ([Carpenter et al., 2017](#ref-CarpenterEtAl2017)) allow to `plug together` the single parts of a statistical regression model[1]:\n",
    "\n",
    "The following Stan-code is published [here](https://mc-stan.org/docs/stan-users-guide/regression.html) in the [Stan users guide](https://mc-stan.org/docs/stan-users-guide/index.html):\n",
    "\n",
    "[1] Which is actually pretty ‘readable’ if you get used to the structure for a simple model such the linear regression model."
   ],
   "id": "67852587-afcf-493a-865d-855aab935f0c"
  },
  {
   "cell_type": "code",
   "execution_count": null,
   "metadata": {},
   "outputs": [
    {
     "output_type": "stream",
     "name": "stdout",
     "text": [
      "data {\n",
      "  int<lower=0> N;\n",
      "  vector[N] x;\n",
      "  vector[N] y;\n",
      "}\n",
      "parameters {\n",
      "  real alpha;\n",
      "  real beta;\n",
      "  real<lower=0> sigma;\n",
      "}\n",
      "model {\n",
      "  y ~ normal(alpha + beta * x, sigma);\n",
      "}"
     ]
    }
   ],
   "source": [
    "cat(readLines(\"lm.stan\"), sep = \"\\n\")"
   ],
   "id": "3de7976e-0809-48e5-a0c8-e48bff3f9a47"
  },
  {
   "cell_type": "markdown",
   "metadata": {},
   "source": [
    "#### Stancode generated by calling `brms::brm`\n",
    "\n",
    "The R add-on package *brms* ([Bürkner, 2017](#ref-Buerkner2017), [2018](#ref-Buerkner2018)) allows to implent advanced regression models without being an expert in ‘Stan-programming’.\n",
    "\n",
    "Here is the Stan-code that is implemented by ‘brms’ for our linear regression model example:"
   ],
   "id": "3c02962a-daf7-4d14-9be6-3f683f71aa62"
  },
  {
   "cell_type": "code",
   "execution_count": null,
   "metadata": {},
   "outputs": [],
   "source": [
    "brms::make_stancode(brms::bf(y ~ x_1 + x_2, center = F), data = df)"
   ],
   "id": "34cf4b2e-c4ca-4ebd-919a-2db785a60695"
  },
  {
   "cell_type": "code",
   "execution_count": null,
   "metadata": {},
   "outputs": [
    {
     "output_type": "stream",
     "name": "stdout",
     "text": [
      "// generated with brms 2.21.0\n",
      "functions {\n",
      "}\n",
      "data {\n",
      "  int<lower=1> N;  // total number of observations\n",
      "  vector[N] Y;  // response variable\n",
      "  int<lower=1> K;  // number of population-level effects\n",
      "  matrix[N, K] X;  // population-level design matrix\n",
      "  int prior_only;  // should the likelihood be ignored?\n",
      "}\n",
      "transformed data {\n",
      "}\n",
      "parameters {\n",
      "  vector[K] b;  // regression coefficients\n",
      "  real<lower=0> sigma;  // dispersion parameter\n",
      "}\n",
      "transformed parameters {\n",
      "  real lprior = 0;  // prior contributions to the log posterior\n",
      "  lprior += student_t_lpdf(sigma | 3, 0, 2.5)\n",
      "    - 1 * student_t_lccdf(0 | 3, 0, 2.5);\n",
      "}\n",
      "model {\n",
      "  // likelihood including constants\n",
      "  if (!prior_only) {\n",
      "    target += normal_id_glm_lpdf(Y | X, 0, b, sigma);\n",
      "  }\n",
      "  // priors including constants\n",
      "  target += lprior;\n",
      "}\n",
      "generated quantities {\n",
      "}"
     ]
    }
   ],
   "source": [
    "cat(readLines(\"lm_brms.stan\"), sep = \"\\n\")"
   ],
   "id": "97ef350a-9dab-4345-9f33-af31c582b389"
  },
  {
   "cell_type": "markdown",
   "metadata": {},
   "source": [
    "### Add-On Linear Model: B) Posterior predictive check: an introduction ‘by hand’\n",
    "\n",
    "Having an `lm` object already, it is rather straightforward to get posterior samples by using function `sim` from the *arm* ([Gelman & Su, 2024](#ref-GelmanSu2024)) package:"
   ],
   "id": "abdccf89-5e01-49b0-839e-0cb83ccb64ce"
  },
  {
   "cell_type": "code",
   "execution_count": null,
   "metadata": {},
   "outputs": [
    {
     "output_type": "stream",
     "name": "stderr",
     "text": [
      "Lade nötiges Paket: MASS"
     ]
    },
    {
     "output_type": "stream",
     "name": "stderr",
     "text": [
      "Lade nötiges Paket: Matrix"
     ]
    },
    {
     "output_type": "stream",
     "name": "stderr",
     "text": [
      "Lade nötiges Paket: lme4"
     ]
    },
    {
     "output_type": "stream",
     "name": "stderr",
     "text": [
      "\n",
      "arm (Version 1.14-4, built: 2024-4-1)"
     ]
    },
    {
     "output_type": "stream",
     "name": "stderr",
     "text": [
      "Working directory is /home/hsennhenn/Dropbox/teaching/Statistical_Modeling_and_Advanced_Regression_Analyses"
     ]
    },
    {
     "output_type": "stream",
     "name": "stdout",
     "text": [
      "Formal class 'sim' [package \"arm\"] with 2 slots\n",
      "  ..@ coef : num [1:100, 1:3] 0.882 1.014 0.904 0.978 0.958 ...\n",
      "  .. ..- attr(*, \"dimnames\")=List of 2\n",
      "  .. .. ..$ : NULL\n",
      "  .. .. ..$ : chr [1:3] \"(Intercept)\" \"x_1\" \"x_2\"\n",
      "  ..@ sigma: num [1:100] 0.323 0.303 0.292 0.309 0.29 ..."
     ]
    },
    {
     "output_type": "stream",
     "name": "stdout",
     "text": [
      "     (Intercept)       x_1        x_2     sigma\n",
      "[1,]   0.8816414 0.9245094 -0.3362733 0.3227662\n",
      "[2,]   1.0139849 0.7317948 -0.3398411 0.3033703\n",
      "[3,]   0.9037042 0.9155575 -0.3506924 0.2922883\n",
      "[4,]   0.9776909 0.8392790 -0.3845609 0.3090220\n",
      "[5,]   0.9579213 0.8977625 -0.4284596 0.2900632\n",
      "[6,]   0.9549211 0.8478278 -0.3937226 0.3094227"
     ]
    }
   ],
   "source": [
    "library(\"arm\")"
   ],
   "id": "3364f73e-7108-4173-b479-38e8c04099b7"
  },
  {
   "cell_type": "markdown",
   "metadata": {},
   "source": [
    "Predict the response for the covariate data as provided by the original data-frame `df` - here only by using the first posterior sample:"
   ],
   "id": "1e3d017d-2786-43a3-8a49-0756345d30f1"
  },
  {
   "cell_type": "code",
   "execution_count": null,
   "metadata": {},
   "outputs": [
    {
     "output_type": "stream",
     "name": "stdout",
     "text": [
      "(Intercept)         x_1         x_2       sigma \n",
      "  0.8816414   0.9245094  -0.3362733   0.3227662 "
     ]
    },
    {
     "output_type": "stream",
     "name": "stderr",
     "text": [
      "`stat_bin()` using `bins = 30`. Pick better value with `binwidth`."
     ]
    },
    {
     "output_type": "display_data",
     "metadata": {},
     "data": {}
    }
   ],
   "source": [
    "s <- 1\n",
    "S[s, ]"
   ],
   "id": "cell-fig-plotlmsimH"
  },
  {
   "cell_type": "markdown",
   "metadata": {},
   "source": [
    "Now let’s repeat the same for 9 different posterior samples:"
   ],
   "id": "94db67dd-6099-4407-80fc-d7a56f5e2a1b"
  },
  {
   "cell_type": "code",
   "execution_count": null,
   "metadata": {},
   "outputs": [
    {
     "output_type": "stream",
     "name": "stderr",
     "text": [
      "`stat_bin()` using `bins = 30`. Pick better value with `binwidth`."
     ]
    },
    {
     "output_type": "display_data",
     "metadata": {},
     "data": {}
    }
   ],
   "source": [
    "pp <- NULL\n",
    "for (s in 1:9) {\n",
    "  mu_s <- S[s, '(Intercept)'] + S[s, 'x_1'] * df$x_1 + S[s, 'x_2'] * df$x_2\n",
    "  y_s <- rnorm(n = nrow(df), mean = mu_s, sd = S[s, 'sigma'])\n",
    "  pp <- rbind(pp, \n",
    "              data.frame(y = df$y, source = \"original\", s = s), \n",
    "              data.frame(y = y_s, source = \"predicted\", s = s))\n",
    "}\n",
    "ggplot(data = pp, aes(x = y, fill = source)) + \n",
    "  geom_histogram(alpha = .5, position = \"identity\") + \n",
    "  facet_wrap(~ s)"
   ],
   "id": "cell-fig-plotlmsimI"
  },
  {
   "cell_type": "code",
   "execution_count": null,
   "metadata": {},
   "outputs": [
    {
     "output_type": "display_data",
     "metadata": {},
     "data": {}
    }
   ],
   "source": [
    "ggplot(data = pp, aes(x = y, fill = source)) + \n",
    "  geom_density(alpha = .5, position = \"identity\") + \n",
    "  facet_wrap(~ s)"
   ],
   "id": "cell-fig-plotlmsimJ"
  },
  {
   "cell_type": "code",
   "execution_count": null,
   "metadata": {},
   "outputs": [
    {
     "output_type": "display_data",
     "metadata": {},
     "data": {}
    }
   ],
   "source": [
    "ggplot(data = pp, aes(x = y, colour = source)) + \n",
    "  stat_ecdf() + \n",
    "  facet_wrap(~ s)"
   ],
   "id": "cell-fig-plotlmsimK"
  },
  {
   "cell_type": "code",
   "execution_count": null,
   "metadata": {},
   "outputs": [
    {
     "output_type": "display_data",
     "metadata": {},
     "data": {}
    }
   ],
   "source": [
    "ggplot(data = subset(pp, source == \"predicted\"),\n",
    "       aes(x = y, group = s)) + \n",
    "  geom_density(position = \"identity\", fill = NA, colour = \"grey\") +\n",
    "  geom_density(data = subset(pp, source == \"original\" & s == 1), \n",
    "               aes(x = y), linewidth = 1)"
   ],
   "id": "cell-fig-plotlmsimL"
  },
  {
   "cell_type": "markdown",
   "metadata": {},
   "source": [
    "# Binary Regression Model"
   ],
   "id": "a115d12a-2945-437c-91f3-62f2c7438e67"
  },
  {
   "cell_type": "code",
   "execution_count": null,
   "metadata": {},
   "outputs": [],
   "source": [
    "rm(list = ls())\n",
    "library(\"ggplot2\")\n",
    "library(\"plyr\")"
   ],
   "id": "0403e56b-8d1c-4c8d-ac74-853eff26c7e0"
  },
  {
   "cell_type": "markdown",
   "metadata": {},
   "source": [
    "## Data Simulation\n",
    "\n",
    "Data are simulated similarly as for the linear model:"
   ],
   "id": "9c618f31-93e3-4b13-bd9f-0e79bdade011"
  },
  {
   "cell_type": "code",
   "execution_count": null,
   "metadata": {},
   "outputs": [
    {
     "output_type": "stream",
     "name": "stdout",
     "text": [
      "[1] -0.06018928"
     ]
    },
    {
     "output_type": "stream",
     "name": "stdout",
     "text": [
      "[1] 0.9006301"
     ]
    },
    {
     "output_type": "stream",
     "name": "stdout",
     "text": [
      "[1] -0.3973215"
     ]
    }
   ],
   "source": [
    "set.seed(123)\n",
    "N <- 500\n",
    "df <- data.frame(x_1 = runif(n = N), \n",
    "                 x_2 = runif(n = N))\n",
    "(beta_0 <- rnorm(n = 1, mean = 0, sd = .1))"
   ],
   "id": "f2352c1d-dc22-43b9-a7ac-85338bc7e856"
  },
  {
   "cell_type": "markdown",
   "metadata": {},
   "source": [
    "### Visualisations"
   ],
   "id": "8a586bcb-39e4-4ebb-b633-8bec9c2518f2"
  },
  {
   "cell_type": "code",
   "execution_count": null,
   "metadata": {},
   "outputs": [
    {
     "output_type": "display_data",
     "metadata": {},
     "data": {}
    }
   ],
   "source": [
    "df$x_1_c <- cut(df$x_1, breaks = seq(0, 1, by = .1), \n",
    "                include.lowest = T, \n",
    "                labels = seq(.05, .95, by = .1))\n",
    "df$x_1_c <- as.numeric(as.character(df$x_1_c))\n",
    "df_p_A <- ddply(df, c(\"x_1_c\"), summarise, \n",
    "                p = mean(y > .5))\n",
    "df_p_A <- data.frame('p' = rep(df_p_A$p, each = 2), \n",
    "                     'x_1' = sort(c(df_p_A$x_1_c - .05, \n",
    "                                    df_p_A$x_1_c + .05)))\n",
    "df_p_B <- data.frame('x_1' = seq(0, 1, by = .01), \n",
    "                     'p' = plogis(beta_0 + \n",
    "                                    beta_x_1 * seq(0, 1, by = .01) + \n",
    "                                    beta_x_2 * .5))\n",
    "set.seed(0)\n",
    "ggplot(data = df, aes(x = x_1, y = y)) + \n",
    "  geom_jitter(aes(color = x_2), width = 0, height = .1) +\n",
    "  geom_line(data = df_p_A, aes(y = p, group = p)) +\n",
    "  geom_line(data = df_p_B, aes(y = p), linetype = 2)\n",
    "## ... 'not as linear as it seems':\n",
    "# plot(df_p_B$x_1[-1], diff(df_p_B$p))"
   ],
   "id": "cell-fig-plotbinomsimA"
  },
  {
   "cell_type": "markdown",
   "metadata": {},
   "source": [
    "## Modeling\n",
    "\n",
    "The basic R command for (frequentist) estimation of the parameters of a binary regression model is a call to the function `glm` with `family` argument `binomial`:"
   ],
   "id": "cbe276ea-5f61-4356-8291-275c5411ac8d"
  },
  {
   "cell_type": "code",
   "execution_count": null,
   "metadata": {},
   "outputs": [
    {
     "output_type": "stream",
     "name": "stdout",
     "text": [
      "\n",
      "Call:\n",
      "glm(formula = y ~ x_1 + x_2, family = binomial(link = \"logit\"), \n",
      "    data = df)\n",
      "\n",
      "Coefficients:\n",
      "            Estimate Std. Error z value Pr(>|z|)    \n",
      "(Intercept)  -0.2908     0.2358  -1.233 0.217531    \n",
      "x_1           1.1598     0.3248   3.570 0.000356 ***\n",
      "x_2          -0.1713     0.3138  -0.546 0.585034    \n",
      "---\n",
      "Signif. codes:  0 '***' 0.001 '**' 0.01 '*' 0.05 '.' 0.1 ' ' 1\n",
      "\n",
      "(Dispersion parameter for binomial family taken to be 1)\n",
      "\n",
      "    Null deviance: 688.53  on 499  degrees of freedom\n",
      "Residual deviance: 675.30  on 497  degrees of freedom\n",
      "AIC: 681.3\n",
      "\n",
      "Number of Fisher Scoring iterations: 4"
     ]
    }
   ],
   "source": [
    "m <- glm(y ~ x_1 + x_2, data = df, \n",
    "         family = binomial(link = 'logit'))\n",
    "summary(m)"
   ],
   "id": "f7f52c06-1bd8-4420-9b31-adff903aaac4"
  },
  {
   "cell_type": "markdown",
   "metadata": {},
   "source": [
    "### Visualisations"
   ],
   "id": "d4f949cb-dee8-4d24-9f30-6063dd637ca9"
  },
  {
   "cell_type": "code",
   "execution_count": null,
   "metadata": {},
   "outputs": [
    {
     "output_type": "stream",
     "name": "stdout",
     "text": [
      "         1          2 \n",
      "-0.3764387  0.7833343 "
     ]
    },
    {
     "output_type": "stream",
     "name": "stdout",
     "text": [
      "[1] -0.3764387  0.7833343"
     ]
    },
    {
     "output_type": "stream",
     "name": "stdout",
     "text": [
      "        1         2 \n",
      "0.2891090 0.1177866 "
     ]
    },
    {
     "output_type": "stream",
     "name": "stdout",
     "text": [
      "[1] 0.2891090 0.1177866"
     ]
    },
    {
     "output_type": "display_data",
     "metadata": {},
     "data": {}
    }
   ],
   "source": [
    "nd <- data.frame('x_1' = 0:1, 'x_2' = .5)\n",
    "(nd$eta <- predict(m, newdata = nd, type = 'link'))"
   ],
   "id": "cell-fig-plotbinomsimB"
  },
  {
   "cell_type": "code",
   "execution_count": null,
   "metadata": {},
   "outputs": [
    {
     "output_type": "stream",
     "name": "stdout",
     "text": [
      " [1] 0.4069861 0.4352503 0.4639417 0.4928738 0.5218537 0.5506872 0.5791841\n",
      " [8] 0.6071630 0.6344556 0.6609111 0.6863983"
     ]
    },
    {
     "output_type": "stream",
     "name": "stdout",
     "text": [
      " [1] 0.4069861 0.4352503 0.4639417 0.4928738 0.5218537 0.5506872 0.5791841\n",
      " [8] 0.6071630 0.6344556 0.6609111 0.6863983"
     ]
    },
    {
     "output_type": "display_data",
     "metadata": {},
     "data": {}
    }
   ],
   "source": [
    "nd <- data.frame(x_1 = seq(0, 1, by = .1), \n",
    "                 x_2 = .5)\n",
    "(nd$p <- predict(m, newdata = nd, type = 'response'))"
   ],
   "id": "cell-fig-plotbinomsimC"
  },
  {
   "cell_type": "markdown",
   "metadata": {},
   "source": [
    "### Estimated Expected Value\n",
    "\n",
    "We can apply the [Bernstein-von Mises theorem](https://en.wikipedia.org/wiki/Bernstein%E2%80%93von_Mises_theorem) to estimate the *expected value*:\n",
    "\n",
    "-   **Fit the model**: Obtain the maximum likelihood estimate for the model’s coefficients (`coef`) along with their variance-covariance matrix (`vcov`).\n",
    "-   **Simulate coefficients**: Perform an ‘informal’ Bayesian posterior simulation using the multivariate normal distribution, based on the *Bernstein-von Mises theorem*.\n",
    "-   **Convert simulated coefficients**: Apply an appropriate transformation to the simulated coefficients to compute the *simulated quantity of interest*. This quantity typically depends on the values of all explanatory variables, and researchers may:\n",
    "-   Focus on a specific observation (usually an ‘average’), or\n",
    "-   Average across all sample observations.\n",
    "\n",
    "In both cases, the applied transformation incorporates the researcher’s specific choice."
   ],
   "id": "5f3a18ec-165f-44c3-a732-e56d667243a4"
  },
  {
   "cell_type": "code",
   "execution_count": null,
   "metadata": {},
   "outputs": [
    {
     "output_type": "stream",
     "name": "stdout",
     "text": [
      "(Intercept)         x_1         x_2 \n",
      " -0.2907775   1.1597730  -0.1713224 "
     ]
    },
    {
     "output_type": "stream",
     "name": "stdout",
     "text": [
      "            (Intercept)          x_1          x_2\n",
      "(Intercept)  0.05560471 -0.048970067 -0.047028038\n",
      "x_1         -0.04897007  0.105509175 -0.004560743\n",
      "x_2         -0.04702804 -0.004560743  0.098439583"
     ]
    },
    {
     "output_type": "stream",
     "name": "stdout",
     "text": [
      "     (Intercept)       x_1        x_2\n",
      "[1,] -0.08125910 0.6544775 -0.2581602\n",
      "[2,] -0.40299145 1.3779659 -0.3263178\n",
      "[3,]  0.09915843 1.0089580 -0.5398310\n",
      "[4,]  0.03289839 0.8600445 -0.3880109\n",
      "[5,] -0.12814786 1.3256621 -0.5036957\n",
      "[6,] -0.55953065 1.4562644  0.3176658"
     ]
    },
    {
     "output_type": "stream",
     "name": "stdout",
     "text": [
      "  x_1 x_2 s\n",
      "1 0.0 0.5 1\n",
      "2 0.1 0.5 1\n",
      "3 0.2 0.5 1\n",
      "4 0.3 0.5 1\n",
      "5 0.4 0.5 1\n",
      "6 0.5 0.5 1"
     ]
    },
    {
     "output_type": "display_data",
     "metadata": {},
     "data": {}
    }
   ],
   "source": [
    "library(\"MASS\")\n",
    "coef(m)"
   ],
   "id": "cell-fig-plotbinomsimD"
  },
  {
   "cell_type": "markdown",
   "metadata": {},
   "source": [
    "# Poisson Regression Model"
   ],
   "id": "9a80e83d-7186-45cb-9a02-b320d53b5766"
  },
  {
   "cell_type": "code",
   "execution_count": null,
   "metadata": {},
   "outputs": [],
   "source": [
    "rm(list = ls())\n",
    "library(\"ggplot2\")"
   ],
   "id": "71208b44-3115-44d6-8ef7-96ba73113121"
  },
  {
   "cell_type": "markdown",
   "metadata": {},
   "source": [
    "## Data Simulation\n",
    "\n",
    "Data are simulated similarly as for the linear model:"
   ],
   "id": "beb5f4e2-b2bc-41ec-9ad5-324f9db1e7f2"
  },
  {
   "cell_type": "code",
   "execution_count": null,
   "metadata": {},
   "outputs": [
    {
     "output_type": "stream",
     "name": "stdout",
     "text": [
      "[1] -0.06018928"
     ]
    },
    {
     "output_type": "stream",
     "name": "stdout",
     "text": [
      "[1] 0.9006301"
     ]
    },
    {
     "output_type": "stream",
     "name": "stdout",
     "text": [
      "[1] -0.3973215"
     ]
    }
   ],
   "source": [
    "set.seed(123)\n",
    "N <- 500\n",
    "df <- data.frame(x_1 = runif(n = N), \n",
    "                 x_2 = runif(n = N))\n",
    "(beta_0 <- rnorm(n = 1, mean = 0, sd = .1))"
   ],
   "id": "d7c5cf64-34d2-44c9-be67-ca14ac30af3a"
  },
  {
   "cell_type": "markdown",
   "metadata": {},
   "source": [
    "### Visualisations"
   ],
   "id": "21fdc3a3-76be-4529-9ad0-30aeef7536d8"
  },
  {
   "cell_type": "code",
   "execution_count": null,
   "metadata": {},
   "outputs": [
    {
     "output_type": "display_data",
     "metadata": {},
     "data": {}
    }
   ],
   "source": [
    "df$x_1_c <- cut(df$x_1, breaks = seq(0, 1, by = .1), \n",
    "                include.lowest = T, \n",
    "                labels = seq(.05, .95, by = .1))\n",
    "df$x_1_c <- as.numeric(as.character(df$x_1_c))\n",
    "df_p_A <- ddply(df, c(\"x_1_c\"), summarise, \n",
    "                mu = mean(y))\n",
    "df_p_A <- data.frame('mu' = rep(df_p_A$mu, each = 2), \n",
    "                     'x_1' = sort(c(df_p_A$x_1_c - .05, \n",
    "                                    df_p_A$x_1_c + .05)))\n",
    "df_p_B <- data.frame('x_1' = seq(0, 1, by = .01), \n",
    "                     'mu' = exp(beta_0 + \n",
    "                                  beta_x_1 * seq(0, 1, by = .01) + \n",
    "                                  beta_x_2 * .5))\n",
    "set.seed(0)\n",
    "ggplot(data = df, aes(x = x_1, y = y)) + \n",
    "  geom_jitter(aes(color = x_2), width = 0, height = .1) +\n",
    "  geom_line(data = df_p_A, aes(y = mu, group = mu)) +\n",
    "  geom_line(data = df_p_B, aes(y = mu), linetype = 2)"
   ],
   "id": "cell-fig-plotpoissimB"
  },
  {
   "cell_type": "markdown",
   "metadata": {},
   "source": [
    "## Modeling\n",
    "\n",
    "The basic R command for (frequentist) estimation of the parameters of a binary regression model is a call to the function `glm` with `family` argument `poisson(link = 'log')`:"
   ],
   "id": "2ac069ec-6e93-4dd0-9eaf-acaf24b1db0f"
  },
  {
   "cell_type": "code",
   "execution_count": null,
   "metadata": {},
   "outputs": [
    {
     "output_type": "stream",
     "name": "stdout",
     "text": [
      "\n",
      "Call:\n",
      "glm(formula = y ~ x_1 + x_2, family = poisson(link = \"log\"), \n",
      "    data = df)\n",
      "\n",
      "Coefficients:\n",
      "            Estimate Std. Error z value Pr(>|z|)    \n",
      "(Intercept) -0.09637    0.11000  -0.876    0.381    \n",
      "x_1          1.05534    0.14351   7.354 1.93e-13 ***\n",
      "x_2         -0.54067    0.13875  -3.897 9.74e-05 ***\n",
      "---\n",
      "Signif. codes:  0 '***' 0.001 '**' 0.01 '*' 0.05 '.' 0.1 ' ' 1\n",
      "\n",
      "(Dispersion parameter for poisson family taken to be 1)\n",
      "\n",
      "    Null deviance: 619.76  on 499  degrees of freedom\n",
      "Residual deviance: 551.67  on 497  degrees of freedom\n",
      "AIC: 1395.1\n",
      "\n",
      "Number of Fisher Scoring iterations: 5"
     ]
    }
   ],
   "source": [
    "m <- glm(y ~ x_1 + x_2, data = df, family = poisson(link = 'log'))\n",
    "summary(m)"
   ],
   "id": "322a137e-4a20-4dda-842d-e2566fcf1800"
  },
  {
   "cell_type": "markdown",
   "metadata": {},
   "source": [
    "### Estimated Expected Value\n",
    "\n",
    "Let’s again apply the [Bernstein-von Mises theorem](:https://en.wikipedia.org/wiki/Bernstein%E2%80%93von_Mises_theorem)"
   ],
   "id": "947ce220-2b5f-40be-94af-07bd713e6c69"
  },
  {
   "cell_type": "code",
   "execution_count": null,
   "metadata": {},
   "outputs": [
    {
     "output_type": "stream",
     "name": "stdout",
     "text": [
      "(Intercept)         x_1         x_2 \n",
      "-0.09636825  1.05534471 -0.54067416 "
     ]
    },
    {
     "output_type": "stream",
     "name": "stdout",
     "text": [
      "             (Intercept)           x_1           x_2\n",
      "(Intercept)  0.012100215 -0.0115419704 -0.0083283575\n",
      "x_1         -0.011541970  0.0205956476 -0.0008112633\n",
      "x_2         -0.008328358 -0.0008112633  0.0192505213"
     ]
    },
    {
     "output_type": "stream",
     "name": "stdout",
     "text": [
      "     (Intercept)       x_1        x_2\n",
      "[1,]  0.05743986 0.8596548 -0.5240625\n",
      "[2,] -0.10120645 1.1692825 -0.5989887\n",
      "[3,]  0.01910641 0.9263818 -0.7232511\n",
      "[4,]  0.02386701 0.8912981 -0.6321912\n",
      "[5,] -0.06117581 1.0833727 -0.7137618\n",
      "[6,] -0.30539283 1.1687677 -0.3825595"
     ]
    },
    {
     "output_type": "stream",
     "name": "stdout",
     "text": [
      "  x_1 x_2 s\n",
      "1 0.0 0.5 1\n",
      "2 0.1 0.5 1\n",
      "3 0.2 0.5 1\n",
      "4 0.3 0.5 1\n",
      "5 0.4 0.5 1\n",
      "6 0.5 0.5 1"
     ]
    },
    {
     "output_type": "display_data",
     "metadata": {},
     "data": {}
    }
   ],
   "source": [
    "library(\"MASS\")\n",
    "coef(m)"
   ],
   "id": "cell-fig-plotpoissimC"
  },
  {
   "cell_type": "markdown",
   "metadata": {},
   "source": [
    "# Mixed models\n",
    "\n",
    "… a.k.a. *hierarchical model*, *multilevel model*, …"
   ],
   "id": "b285545a-ff51-4c8a-8eef-1997e9b90790"
  },
  {
   "cell_type": "code",
   "execution_count": null,
   "metadata": {},
   "outputs": [],
   "source": [
    "rm(list = ls())\n",
    "library(\"lme4\")\n",
    "library(\"ggplot2\")\n",
    "library(\"plyr\")"
   ],
   "id": "e8603c7b-60af-47a6-926c-085b08b04132"
  },
  {
   "cell_type": "markdown",
   "metadata": {},
   "source": [
    "## Data Simulation Function `f_sim_data`"
   ],
   "id": "5997ee29-f425-4132-ae44-482534552963"
  },
  {
   "cell_type": "code",
   "execution_count": null,
   "metadata": {},
   "outputs": [],
   "source": [
    "f_sim_data <- function(seed, type) {\n",
    "  set.seed(seed) # Set seed for reproducibility\n",
    "  parameters <- list(## Global intercept: \n",
    "    \"beta_0\" = rnorm(n = 1, mean = 2, sd = .1),\n",
    "    ## Global slope of 'x':\n",
    "    \"beta_x\" = rnorm(n = 1, mean = 1.5, sd = .1),\n",
    "    ## Standard deviation of residuals:\n",
    "    \"sigma\" = abs(rnorm(n = 1, mean = 1, \n",
    "                        sd = .1)))\n",
    "  if (type == \"Random_Intercept\") {\n",
    "    ## Standard deviation of random intercept parameters:\n",
    "    parameters$'sigma_u' <- abs(rnorm(n = 1, mean = 1, sd = .1))\n",
    "    ## Number of groups: \n",
    "    parameters$'G' <- 30\n",
    "    ## Number of observations per group:\n",
    "    parameters$'n_per_g' <- 30\n",
    "    g <- rep(1:parameters$'G', each = parameters$'n_per_g')\n",
    "    x <- runif(n = parameters$'G' * parameters$'n_per_g', \n",
    "               min = -1, max = 1)\n",
    "    df <- data.frame('x' = x, \n",
    "                     'g' = g)\n",
    "    df$u <- rnorm(n = parameters$'G', mean = 0, \n",
    "                  sd = parameters$'sigma_u')[df$g]\n",
    "    df$mu <- parameters$'beta_0' + \n",
    "      parameters$'beta_x' * df$x + df$u\n",
    "    attributes(df)$'type' <- type \n",
    "    attributes(df)$'parameters' <- parameters\n",
    "  }\n",
    "  if (type == \"Nested\") {\n",
    "    ## Standard deviation of random intercept parameters:\n",
    "    parameters$'sigma_u_a' <- abs(rnorm(n = 1, mean = 1, sd = .1))\n",
    "    parameters$'sigma_u_b' <- abs(rnorm(n = 1, mean = 1, sd = .1))\n",
    "    ## Number of groups in 1st level:\n",
    "    parameters$'G_a' <- 30\n",
    "    ## Number of observations per group:\n",
    "    parameters$'n_per_g_a' <- 30\n",
    "    ## Number of groups in 2nd level:\n",
    "    parameters$'G_b' <- 10\n",
    "    ## Number of observations per group:\n",
    "    parameters$'n_per_g_b' <- 6\n",
    "    gr <- as.data.frame(expand.grid('g_a' = 1:parameters$'G_a', \n",
    "                                    'g_b' = 1:parameters$'G_b'))\n",
    "    df <- gr[rep(1:nrow(gr), each = parameters$'n_per_g_b'), ]\n",
    "    df <- df[order(df$g_a, df$g_b), ]\n",
    "    rownames(df) <- NULL\n",
    "    df$g_ab <- paste0(df$g_a, \"_\", df$g_b)\n",
    "    df$x <- runif(n = parameters$'G_a' * parameters$'n_per_g_a', \n",
    "                  min = -1, max = 1)\n",
    "    u_a <- rnorm(n = parameters$'G_a', mean = 0, \n",
    "                 sd = parameters$'sigma_u_a')\n",
    "    df$u_a <- u_a[df$g_a]\n",
    "    u_b <- rnorm(n = length(unique(df$g_ab)), mean = 0, \n",
    "                 sd = parameters$'sigma_u_b')\n",
    "    names(u_b) <- unique(df$g_ab)\n",
    "    df$u_b <- as.numeric(u_b[df$g_ab])\n",
    "    df$mu <- parameters$'beta_0' + parameters$'beta_x' * df$x + \n",
    "      df$u_a + df$u_b\n",
    "    attributes(df)$'type' <- type \n",
    "    attributes(df)$'parameters' <- parameters\n",
    "  }\n",
    "  epsilon <- rnorm(n = nrow(df), mean = 0, sd = parameters$'sigma')\n",
    "  df$y <- df$mu + epsilon\n",
    "  return(df)\n",
    "}"
   ],
   "id": "21188121-654d-49ce-b5ae-40aa2ceff60d"
  },
  {
   "cell_type": "markdown",
   "metadata": {},
   "source": [
    "## Random Intercept Model"
   ],
   "id": "3c2de01d-a821-4d8f-8ba7-4860e1b2556d"
  },
  {
   "cell_type": "code",
   "execution_count": null,
   "metadata": {},
   "outputs": [
    {
     "output_type": "stream",
     "name": "stdout",
     "text": [
      "           x g         u          mu          y\n",
      "1  0.3215956 1 -1.095936  1.50226149  2.9095988\n",
      "2  0.2582281 1 -1.095936  1.40927751  2.1118975\n",
      "3 -0.8764275 1 -1.095936 -0.25568956 -0.1425014\n",
      "4 -0.5880509 1 -1.095936  0.16746754  2.2155593\n",
      "5 -0.6468865 1 -1.095936  0.08113349 -1.6210895\n",
      "6  0.3740457 1 -1.095936  1.57922556  1.9028505"
     ]
    },
    {
     "output_type": "stream",
     "name": "stdout",
     "text": [
      "   beta_0    beta_x     sigma   sigma_u         G   n_per_g \n",
      " 2.126295  1.467377  1.132980  1.127243 30.000000 30.000000 "
     ]
    },
    {
     "output_type": "stream",
     "name": "stdout",
     "text": [
      "Linear mixed model fit by REML ['lmerMod']\n",
      "Formula: y ~ x + (1 | g)\n",
      "   Data: df\n",
      "\n",
      "REML criterion at convergence: 2889.6\n",
      "\n",
      "Scaled residuals: \n",
      "     Min       1Q   Median       3Q      Max \n",
      "-3.10483 -0.67888 -0.01549  0.67941  2.97945 \n",
      "\n",
      "Random effects:\n",
      " Groups   Name        Variance Std.Dev.\n",
      " g        (Intercept) 1.421    1.192   \n",
      " Residual             1.287    1.134   \n",
      "Number of obs: 900, groups:  g, 30\n",
      "\n",
      "Fixed effects:\n",
      "            Estimate Std. Error t value\n",
      "(Intercept)  2.00545    0.22090   9.078\n",
      "x            1.51171    0.06674  22.652\n",
      "\n",
      "Correlation of Fixed Effects:\n",
      "  (Intr)\n",
      "x 0.000 "
     ]
    }
   ],
   "source": [
    "df <- f_sim_data(seed = 0, type = \"Random_Intercept\")\n",
    "head(df)"
   ],
   "id": "ff2eadcb-f1ba-4888-a9c4-9366a928203c"
  },
  {
   "cell_type": "markdown",
   "metadata": {},
   "source": [
    "### … small simulation study"
   ],
   "id": "85c08ffa-4527-4ab8-87da-235dd8fa55e3"
  },
  {
   "cell_type": "code",
   "execution_count": null,
   "metadata": {},
   "outputs": [],
   "source": [
    "R <- 50\n",
    "ci_df <- NULL\n",
    "for (r in 1:R) {\n",
    "  ## Simulate data:\n",
    "  df <- f_sim_data(seed = r, type = \"Random_Intercept\")\n",
    "  ## Estimate models:\n",
    "  lm_model <- lm(y ~ x, data = df)\n",
    "  lmer_model <- lmer(y ~ x + (1 | g), data = df)\n",
    "  ## Extract confidence intervals:\n",
    "  lm_ci <- confint(lm_model, level = 0.95)\n",
    "  lmer_ci <- suppressMessages(confint(lmer_model, level = 0.95))\n",
    "  ## Store results:\n",
    "  par_name <- \"sigma\"\n",
    "  tmp <- data.frame(r = r,\n",
    "                    par_name = par_name,\n",
    "                    Value = rep(attributes(df)$parameters$sigma, \n",
    "                                times = 2),\n",
    "                    Model = c(\"lm\", \"lmer\"),\n",
    "                    Estimate = c(summary(lm_model)$sigma, \n",
    "                                 summary(lmer_model)$sigma),\n",
    "                    CI_Low = rep(NA, 2),\n",
    "                    CI_High = c(NA, 2))\n",
    "  ci_df <- rbind(ci_df, tmp)\n",
    "  par_name <- \"x\"\n",
    "  tmp <- data.frame(r = r,\n",
    "                    par_name = par_name,\n",
    "                    Value = rep(attributes(df)$parameters$beta_x, \n",
    "                                times = 2),\n",
    "                    Model = c(\"lm\", \"lmer\"),\n",
    "                    Estimate = c(coef(lm_model)[par_name], \n",
    "                                 fixef(lmer_model)[par_name]),\n",
    "                    CI_Low = c(lm_ci[par_name, 1], \n",
    "                               lmer_ci[par_name, 1]),\n",
    "                    CI_High = c(lm_ci[par_name, 2], \n",
    "                                lmer_ci[par_name, 2]))\n",
    "  ci_df <- rbind(ci_df, tmp)\n",
    "  par_name <- \"(Intercept)\"\n",
    "  tmp <- data.frame(r = r,\n",
    "                    par_name = par_name,\n",
    "                    Value = rep(attributes(df)$parameters$beta_0, \n",
    "                                times = 2),\n",
    "                    Model = c(\"lm\", \"lmer\"),\n",
    "                    Estimate = c(coef(lm_model)[par_name], \n",
    "                                 fixef(lmer_model)[par_name]),\n",
    "                    CI_Low = c(lm_ci[par_name, 1], \n",
    "                               lmer_ci[par_name, 1]),\n",
    "                    CI_High = c(lm_ci[par_name, 2], \n",
    "                                lmer_ci[par_name, 2]))\n",
    "  ci_df <- rbind(ci_df, tmp)\n",
    "  cat(\".\")\n",
    "}\n",
    "ci_df$par_name <- factor(ci_df$par_name, \n",
    "                         levels = c(\"(Intercept)\", \"x\", \"sigma\"))"
   ],
   "id": "1b38b73d-54dc-4a2e-b0e3-74eea5046075"
  },
  {
   "cell_type": "code",
   "execution_count": null,
   "metadata": {},
   "outputs": [],
   "source": [
    "# save(ci_df, file = \"mixed_models_ci_df.RData\")\n",
    "load(file = \"mixed_models_ci_df.RData\")"
   ],
   "id": "dfb37858-7181-4b47-bece-fadd63a9e33a"
  },
  {
   "cell_type": "markdown",
   "metadata": {},
   "source": [
    "### … small simulation study"
   ],
   "id": "bf624145-db2e-4b89-b501-d08f958b6f34"
  },
  {
   "cell_type": "code",
   "execution_count": null,
   "metadata": {},
   "outputs": [
    {
     "output_type": "stream",
     "name": "stderr",
     "text": [
      "Warning: Removed 50 rows containing missing values or values outside the scale range\n",
      "(`geom_segment()`).\n",
      "Removed 50 rows containing missing values or values outside the scale range\n",
      "(`geom_segment()`)."
     ]
    },
    {
     "output_type": "display_data",
     "metadata": {},
     "data": {}
    }
   ],
   "source": [
    "ggplot(ci_df, aes(x = r)) +\n",
    "  geom_pointrange(aes(y = Estimate, ymin = CI_Low, \n",
    "                      ymax = CI_High)) +\n",
    "  geom_point(aes(y = Value), color = 2) +\n",
    "  labs(y = \"Parameter estimate & interval\",\n",
    "       x = \"Simulation run\") +\n",
    "  facet_grid(cols = vars(Model), rows = vars(par_name), \n",
    "             scales = \"free\") +\n",
    "  theme(legend.position = \"none\")"
   ],
   "id": "cell-fig-mixedmodelA"
  },
  {
   "cell_type": "markdown",
   "metadata": {},
   "source": [
    "## Random Intercept with Random Slope Model"
   ],
   "id": "a47ac604-c9d8-4961-b118-21cb28c6c93d"
  },
  {
   "cell_type": "code",
   "execution_count": null,
   "metadata": {},
   "outputs": [
    {
     "output_type": "stream",
     "name": "stdout",
     "text": [
      "           x g         u          mu          y   u_slope\n",
      "1  0.3215956 1 -1.095936  1.50226149  2.4603313 -1.396995\n",
      "2  0.2582281 1 -1.095936  1.40927751  1.7511541 -1.396995\n",
      "3 -0.8764275 1 -1.095936 -0.25568956  1.0818636 -1.396995\n",
      "4 -0.5880509 1 -1.095936  0.16746754  3.0370635 -1.396995\n",
      "5 -0.6468865 1 -1.095936  0.08113349 -0.7173922 -1.396995\n",
      "6  0.3740457 1 -1.095936  1.57922556  1.3803104 -1.396995"
     ]
    },
    {
     "output_type": "stream",
     "name": "stdout",
     "text": [
      "     beta_0      beta_x       sigma     sigma_u           G     n_per_g \n",
      "   2.126295    1.467377    1.132980    1.127243   30.000000   30.000000 \n",
      "sigma_u_x_g \n",
      "   1.066731 "
     ]
    },
    {
     "output_type": "stream",
     "name": "stdout",
     "text": [
      "Linear mixed model fit by REML ['lmerMod']\n",
      "Formula: y ~ x + (1 + x | g)\n",
      "   Data: df\n",
      "\n",
      "REML criterion at convergence: 2969.4\n",
      "\n",
      "Scaled residuals: \n",
      "     Min       1Q   Median       3Q      Max \n",
      "-2.73036 -0.66985 -0.01614  0.65063  2.87938 \n",
      "\n",
      "Random effects:\n",
      " Groups   Name        Variance Std.Dev. Corr\n",
      " g        (Intercept) 1.410    1.187        \n",
      "          x           1.488    1.220    0.03\n",
      " Residual             1.299    1.140        \n",
      "Number of obs: 900, groups:  g, 30\n",
      "\n",
      "Fixed effects:\n",
      "            Estimate Std. Error t value\n",
      "(Intercept)   2.0000     0.2202   9.084\n",
      "x             1.3435     0.2328   5.772\n",
      "\n",
      "Correlation of Fixed Effects:\n",
      "  (Intr)\n",
      "x 0.024 "
     ]
    },
    {
     "output_type": "display_data",
     "metadata": {},
     "data": {}
    }
   ],
   "source": [
    "f_add_random_slope <- function(df, x_lab, g_lab) {\n",
    "  ## assign(paste0(\"sigma_u_\", x_label, \"_\", g_label), 1)\n",
    "  sigma_u_slope <- abs(rnorm(n = 1, mean = 1, sd = .1))\n",
    "  u_slope <- rnorm(length(unique(df[, g_lab])), mean = 0, \n",
    "                   sd = sigma_u_slope)\n",
    "  df$u_slope <- u_slope[df[, g_lab]]\n",
    "  df$y <- df$y + df[, x_lab] * df$u_slope\n",
    "  attributes(df)$parameters[[paste0(\"sigma_u_\", x_lab, \"_\", g_lab)]] <- \n",
    "    sigma_u_slope\n",
    "  return(df)\n",
    "}\n",
    "df <- f_sim_data(seed = 0, type = \"Random_Intercept\")\n",
    "df <- f_add_random_slope(df = df, x_lab = \"x\", g_lab = \"g\")\n",
    "head(df)"
   ],
   "id": "cell-fig-mixedmodelB"
  },
  {
   "cell_type": "markdown",
   "metadata": {},
   "source": [
    "## Nested Model"
   ],
   "id": "3a7b6a2b-69a8-4528-9ec1-623c5bfa01a3"
  },
  {
   "cell_type": "code",
   "execution_count": null,
   "metadata": {},
   "outputs": [
    {
     "output_type": "stream",
     "name": "stdout",
     "text": [
      "  g_a g_b g_ab          x       u_a       u_b          mu          y\n",
      "1   1   1  1_1 -0.8764275 -1.936757 0.6458663 -0.45064437 -0.8523900\n",
      "2   1   1  1_1 -0.5880509 -1.936757 0.6458663 -0.02748727  0.1857836\n",
      "3   1   1  1_1 -0.6468865 -1.936757 0.6458663 -0.11382132  0.9328256\n",
      "4   1   1  1_1  0.3740457 -1.936757 0.6458663  1.38427075  3.8232376\n",
      "5   1   1  1_1 -0.2317926 -1.936757 0.6458663  0.49527783 -0.7620346\n",
      "6   1   1  1_1  0.5396828 -1.936757 0.6458663  1.62732283  2.7937350"
     ]
    },
    {
     "output_type": "stream",
     "name": "stdout",
     "text": [
      "   beta_0    beta_x     sigma sigma_u_a sigma_u_b       G_a n_per_g_a       G_b \n",
      " 2.126295  1.467377  1.132980  1.127243  1.041464 30.000000 30.000000 10.000000 \n",
      "n_per_g_b \n",
      " 6.000000 "
     ]
    },
    {
     "output_type": "stream",
     "name": "stdout",
     "text": [
      "Linear mixed model fit by REML ['lmerMod']\n",
      "Formula: y ~ x + (1 | g_a/g_b)\n",
      "   Data: df\n",
      "\n",
      "REML criterion at convergence: 6235.4\n",
      "\n",
      "Scaled residuals: \n",
      "     Min       1Q   Median       3Q      Max \n",
      "-3.06066 -0.65621  0.02234  0.63566  2.79567 \n",
      "\n",
      "Random effects:\n",
      " Groups   Name        Variance Std.Dev.\n",
      " g_b:g_a  (Intercept) 0.8489   0.9214  \n",
      " g_a      (Intercept) 1.4214   1.1922  \n",
      " Residual             1.3809   1.1751  \n",
      "Number of obs: 1800, groups:  g_b:g_a, 300; g_a, 30\n",
      "\n",
      "Fixed effects:\n",
      "            Estimate Std. Error t value\n",
      "(Intercept)  2.10415    0.22578   9.319\n",
      "x            1.41589    0.05253  26.954\n",
      "\n",
      "Correlation of Fixed Effects:\n",
      "  (Intr)\n",
      "x 0.001 "
     ]
    },
    {
     "output_type": "stream",
     "name": "stdout",
     "text": [
      "Linear mixed model fit by REML ['lmerMod']\n",
      "Formula: y ~ x + (1 | g_a) + (1 | g_ab)\n",
      "   Data: df\n",
      "\n",
      "REML criterion at convergence: 6235.4\n",
      "\n",
      "Scaled residuals: \n",
      "     Min       1Q   Median       3Q      Max \n",
      "-3.06066 -0.65621  0.02234  0.63566  2.79567 \n",
      "\n",
      "Random effects:\n",
      " Groups   Name        Variance Std.Dev.\n",
      " g_ab     (Intercept) 0.8489   0.9214  \n",
      " g_a      (Intercept) 1.4214   1.1922  \n",
      " Residual             1.3809   1.1751  \n",
      "Number of obs: 1800, groups:  g_ab, 300; g_a, 30\n",
      "\n",
      "Fixed effects:\n",
      "            Estimate Std. Error t value\n",
      "(Intercept)  2.10415    0.22578   9.319\n",
      "x            1.41589    0.05253  26.954\n",
      "\n",
      "Correlation of Fixed Effects:\n",
      "  (Intr)\n",
      "x 0.001 "
     ]
    },
    {
     "output_type": "display_data",
     "metadata": {},
     "data": {}
    }
   ],
   "source": [
    "df <- f_sim_data(seed = 0, type = \"Nested\")\n",
    "head(df)"
   ],
   "id": "cell-fig-mixedmodelC"
  },
  {
   "cell_type": "markdown",
   "metadata": {},
   "source": [
    "### … add covariate ‘z’ as constant within 2nd level"
   ],
   "id": "4619a63b-d063-4954-8d32-555a880de126"
  },
  {
   "cell_type": "code",
   "execution_count": null,
   "metadata": {},
   "outputs": [
    {
     "output_type": "stream",
     "name": "stdout",
     "text": [
      "Linear mixed model fit by REML ['lmerMod']\n",
      "Formula: y ~ x + z + (1 | g_a/g_b)\n",
      "   Data: df\n",
      "\n",
      "REML criterion at convergence: 6236.8\n",
      "\n",
      "Scaled residuals: \n",
      "     Min       1Q   Median       3Q      Max \n",
      "-3.05900 -0.66108  0.02254  0.63115  2.78727 \n",
      "\n",
      "Random effects:\n",
      " Groups   Name        Variance Std.Dev.\n",
      " g_b:g_a  (Intercept) 0.848    0.9209  \n",
      " g_a      (Intercept) 1.429    1.1955  \n",
      " Residual             1.381    1.1751  \n",
      "Number of obs: 1800, groups:  g_b:g_a, 300; g_a, 30\n",
      "\n",
      "Fixed effects:\n",
      "            Estimate Std. Error t value\n",
      "(Intercept)  2.09644    0.22647   9.257\n",
      "x            1.41538    0.05253  26.943\n",
      "z            1.72034    0.11487  14.976\n",
      "\n",
      "Correlation of Fixed Effects:\n",
      "  (Intr) x     \n",
      "x  0.001       \n",
      "z -0.033 -0.009"
     ]
    },
    {
     "output_type": "display_data",
     "metadata": {},
     "data": {}
    }
   ],
   "source": [
    "f_add_covariate_constant_within_b <- function(df) {\n",
    "  attributes(df)$'parameters'$'beta_z' <- rnorm(n = 1, mean = 1.5, \n",
    "                                                sd = .1)\n",
    "  if (attributes(df)$type != \"Nested\") {\n",
    "    stop(\"Use type 'Nested' to generate 'df'.\")\n",
    "  }\n",
    "  z <- runif(n = length(unique(df$g_ab)), min = -1, max = 1)\n",
    "  names(z) <- unique(df$g_ab)\n",
    "  df$z <- as.numeric(z[df$g_ab])\n",
    "  df$y <- df$y + df$z * attributes(df)$'parameters'$'beta_z'\n",
    "  return(df)\n",
    "}\n",
    "df <- f_sim_data(seed = 0, type = \"Nested\")\n",
    "df <- f_add_covariate_constant_within_b(df = df)\n",
    "ggplot(data = df, aes(x = x, y = y, colour = z)) + \n",
    "  geom_point() + \n",
    "  facet_wrap(~ g_a) + \n",
    "  theme(legend.position = 'top')\n",
    "m <- lmer(y ~ x + z + (1 | g_a / g_b), data = df)\n",
    "summary(m)"
   ],
   "id": "cell-fig-mixedmodelD"
  },
  {
   "cell_type": "markdown",
   "metadata": {},
   "source": [
    "# References\n",
    "\n",
    "Allaire, J. J., Teague, C., Scheidegger, C., Xie, Y., & Dervieux, C. (2024). *Quarto (Version 1.4.553)*. <https://doi.org/10.5281/zenodo.5960048>\n",
    "\n",
    "Bürkner, P.-C. (2017). Brms: An R Package for Bayesian Multilevel Models Using Stan. *Journal of Statistical Software*, *80*, 1–28. <https://doi.org/10.18637/jss.v080.i01>\n",
    "\n",
    "Bürkner, P.-C. (2018). Advanced Bayesian Multilevel Modeling with the R Package brms. *The R Journal*, *10*(1), 395–411.\n",
    "\n",
    "Carpenter, B., Gelman, A., Hoffman, M. D., Lee, D., Goodrich, B., Betancourt, M., Brubaker, M., Guo, J., Li, P., & Riddell, A. (2017). Stan: A Probabilistic Programming Language. *Journal of Statistical Software*, *76*, 1–32. <https://doi.org/10.18637/jss.v076.i01>\n",
    "\n",
    "Gelman, A., & Su, Y.-S. (2024). *Arm: Data analysis using regression and multilevel/hierarchical models*. <https://CRAN.R-project.org/package=arm>\n",
    "\n",
    "R Core Team. (2024). *R: A Language and Environment for Statistical Computing (Version 4.4.1)*. R Foundation for Statistical Computing.\n",
    "\n",
    "Wickham, H. (2016). *ggplot2: Elegant graphics for data analysis*. Springer-Verlag New York. <https://ggplot2.tidyverse.org>"
   ],
   "id": "feffdc3f-6c7e-434d-ab5a-ccdcd55b7a1e"
  }
 ],
 "nbformat": 4,
 "nbformat_minor": 5,
 "metadata": {}
}

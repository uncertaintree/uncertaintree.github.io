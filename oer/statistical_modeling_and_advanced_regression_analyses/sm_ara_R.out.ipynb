{
 "cells": [
  {
   "cell_type": "markdown",
   "metadata": {},
   "source": [
    "# Statictical Modeling and Advanced Regression Analyses\n",
    "\n",
    "R Tutorials\n",
    "\n",
    "Holger Sennhenn-Reulen [![](data:image/png;base64,iVBORw0KGgoAAAANSUhEUgAAABAAAAAQCAYAAAAf8/9hAAAAGXRFWHRTb2Z0d2FyZQBBZG9iZSBJbWFnZVJlYWR5ccllPAAAA2ZpVFh0WE1MOmNvbS5hZG9iZS54bXAAAAAAADw/eHBhY2tldCBiZWdpbj0i77u/IiBpZD0iVzVNME1wQ2VoaUh6cmVTek5UY3prYzlkIj8+IDx4OnhtcG1ldGEgeG1sbnM6eD0iYWRvYmU6bnM6bWV0YS8iIHg6eG1wdGs9IkFkb2JlIFhNUCBDb3JlIDUuMC1jMDYwIDYxLjEzNDc3NywgMjAxMC8wMi8xMi0xNzozMjowMCAgICAgICAgIj4gPHJkZjpSREYgeG1sbnM6cmRmPSJodHRwOi8vd3d3LnczLm9yZy8xOTk5LzAyLzIyLXJkZi1zeW50YXgtbnMjIj4gPHJkZjpEZXNjcmlwdGlvbiByZGY6YWJvdXQ9IiIgeG1sbnM6eG1wTU09Imh0dHA6Ly9ucy5hZG9iZS5jb20veGFwLzEuMC9tbS8iIHhtbG5zOnN0UmVmPSJodHRwOi8vbnMuYWRvYmUuY29tL3hhcC8xLjAvc1R5cGUvUmVzb3VyY2VSZWYjIiB4bWxuczp4bXA9Imh0dHA6Ly9ucy5hZG9iZS5jb20veGFwLzEuMC8iIHhtcE1NOk9yaWdpbmFsRG9jdW1lbnRJRD0ieG1wLmRpZDo1N0NEMjA4MDI1MjA2ODExOTk0QzkzNTEzRjZEQTg1NyIgeG1wTU06RG9jdW1lbnRJRD0ieG1wLmRpZDozM0NDOEJGNEZGNTcxMUUxODdBOEVCODg2RjdCQ0QwOSIgeG1wTU06SW5zdGFuY2VJRD0ieG1wLmlpZDozM0NDOEJGM0ZGNTcxMUUxODdBOEVCODg2RjdCQ0QwOSIgeG1wOkNyZWF0b3JUb29sPSJBZG9iZSBQaG90b3Nob3AgQ1M1IE1hY2ludG9zaCI+IDx4bXBNTTpEZXJpdmVkRnJvbSBzdFJlZjppbnN0YW5jZUlEPSJ4bXAuaWlkOkZDN0YxMTc0MDcyMDY4MTE5NUZFRDc5MUM2MUUwNEREIiBzdFJlZjpkb2N1bWVudElEPSJ4bXAuZGlkOjU3Q0QyMDgwMjUyMDY4MTE5OTRDOTM1MTNGNkRBODU3Ii8+IDwvcmRmOkRlc2NyaXB0aW9uPiA8L3JkZjpSREY+IDwveDp4bXBtZXRhPiA8P3hwYWNrZXQgZW5kPSJyIj8+84NovQAAAR1JREFUeNpiZEADy85ZJgCpeCB2QJM6AMQLo4yOL0AWZETSqACk1gOxAQN+cAGIA4EGPQBxmJA0nwdpjjQ8xqArmczw5tMHXAaALDgP1QMxAGqzAAPxQACqh4ER6uf5MBlkm0X4EGayMfMw/Pr7Bd2gRBZogMFBrv01hisv5jLsv9nLAPIOMnjy8RDDyYctyAbFM2EJbRQw+aAWw/LzVgx7b+cwCHKqMhjJFCBLOzAR6+lXX84xnHjYyqAo5IUizkRCwIENQQckGSDGY4TVgAPEaraQr2a4/24bSuoExcJCfAEJihXkWDj3ZAKy9EJGaEo8T0QSxkjSwORsCAuDQCD+QILmD1A9kECEZgxDaEZhICIzGcIyEyOl2RkgwAAhkmC+eAm0TAAAAABJRU5ErkJggg==)](https://orcid.org/0000-0002-4782-4387) (Northwest German Forest Research Institute (NW-FVA))  \n",
    "November 20, 2024"
   ],
   "id": "a230a690-500f-4ef9-8efb-5c2ffa8f3c0b"
  },
  {
   "cell_type": "raw",
   "metadata": {
    "raw_mimetype": "text/html"
   },
   "source": [
    "<!-- ```{r} -->"
   ],
   "id": "bd4f16b0-bd6d-45a8-ac00-cb1cad60b658"
  },
  {
   "cell_type": "raw",
   "metadata": {
    "raw_mimetype": "text/html"
   },
   "source": [
    "<!-- if(knitr::is_latex_output()) { -->"
   ],
   "id": "48f538ea-791e-41f7-8afd-9747ab2ef4ce"
  },
  {
   "cell_type": "raw",
   "metadata": {
    "raw_mimetype": "text/html"
   },
   "source": [
    "<!--   knitr::opts_chunk$set(dev = 'tikz') -->"
   ],
   "id": "0ecd520b-a38e-4f9b-a0be-ff0635e399cd"
  },
  {
   "cell_type": "raw",
   "metadata": {
    "raw_mimetype": "text/html"
   },
   "source": [
    "<!--   options(tikzDocumentDeclaration = \"\\\\documentclass{article}\\n\\\\usepackage[lining]{ebgaramond}\") -->"
   ],
   "id": "11fd7c92-d9f8-4082-969d-9092c85643f2"
  },
  {
   "cell_type": "raw",
   "metadata": {
    "raw_mimetype": "text/html"
   },
   "source": [
    "<!-- } -->"
   ],
   "id": "319c2f27-3eb1-42c2-8ecb-912a720d973f"
  },
  {
   "cell_type": "raw",
   "metadata": {
    "raw_mimetype": "text/html"
   },
   "source": [
    "<!-- ``` -->"
   ],
   "id": "361b9cf3-ede3-447e-913d-bd24c8be37af"
  },
  {
   "cell_type": "markdown",
   "metadata": {},
   "source": [
    "# Software\n",
    "\n",
    "We use the statistical software environment *R* ([R Core Team, 2024](#ref-RCoreTeam2024)), and R add-on packages *ggplot2* ([Wickham, 2016](#ref-Wickham2016))."
   ],
   "id": "a6c7c5f0-7c99-4415-9b27-a21b959ab778"
  },
  {
   "cell_type": "raw",
   "metadata": {
    "raw_mimetype": "text/html"
   },
   "source": [
    "<!-- and *plyr* [@Wickham2011].  -->"
   ],
   "id": "9c83123a-f52e-40aa-918b-fcb8d5060c88"
  },
  {
   "cell_type": "raw",
   "metadata": {
    "raw_mimetype": "text/html"
   },
   "source": [
    "<!-- *colorspace* [@StaufferEtAl2009] -->"
   ],
   "id": "7e3c05bb-5afb-4a1f-ac3d-f0fed97c830d"
  },
  {
   "cell_type": "raw",
   "metadata": {
    "raw_mimetype": "text/html"
   },
   "source": [
    "<!-- **cowplot** [@Wilke2023] -->"
   ],
   "id": "6a83d864-c529-4c4d-8958-94254a616092"
  },
  {
   "cell_type": "markdown",
   "metadata": {},
   "source": [
    "This document is produced using *Quarto* ([Allaire et al., 2024](#ref-AllaireEtAl2024)). <!-- Graphics in the PDF version are rendered using R add-on package *tikzDevice* [@SharpsteenBracken2023].  -->\n",
    "\n",
    "## Organize R Session"
   ],
   "id": "eb297c8b-eebd-444d-95e1-b3b68169035c"
  },
  {
   "cell_type": "code",
   "execution_count": null,
   "metadata": {},
   "outputs": [],
   "source": [
    "rm(list = ls())\n",
    "library(\"ggplot2\")"
   ],
   "id": "eda945d4-7a38-4717-8baf-2e2a7cff6199"
  },
  {
   "cell_type": "markdown",
   "metadata": {},
   "source": [
    "# Linear Regression Model\n",
    "\n",
    "## Data Simulation\n",
    "\n",
    "Data are simulated according to the equations given in the lecture slides[1]:\n",
    "\n",
    "[1] For two covariates `x_1` and `x_2`."
   ],
   "id": "290c4be6-2512-4037-ac1f-2ed509291719"
  },
  {
   "cell_type": "code",
   "execution_count": null,
   "metadata": {},
   "outputs": [
    {
     "output_type": "stream",
     "name": "stdout",
     "text": [
      "[1] 0.9398107"
     ]
    },
    {
     "output_type": "stream",
     "name": "stdout",
     "text": [
      "[1] 0.9006301"
     ]
    },
    {
     "output_type": "stream",
     "name": "stdout",
     "text": [
      "[1] -0.3973215"
     ]
    },
    {
     "output_type": "stream",
     "name": "stdout",
     "text": [
      "[1] 0.293026"
     ]
    }
   ],
   "source": [
    "set.seed(123)\n",
    "N <- 500\n",
    "df <- data.frame(x_1 = runif(n = N), \n",
    "                 x_2 = runif(n = N))\n",
    "(beta_0 <- rnorm(n = 1, mean = 1, sd = .1))"
   ],
   "id": "18feafc4-fd02-42df-8f3b-5f550896c058"
  },
  {
   "cell_type": "markdown",
   "metadata": {},
   "source": [
    "### Visualisations"
   ],
   "id": "324dc807-0ec5-4553-8794-97b1ddd47f81"
  },
  {
   "cell_type": "code",
   "execution_count": null,
   "metadata": {},
   "outputs": [
    {
     "output_type": "display_data",
     "metadata": {},
     "data": {}
    }
   ],
   "source": [
    "ggplot(data = df, aes(x = x_1, y = x_2)) + \n",
    "  geom_point()"
   ],
   "id": "cell-fig-plotlmsimA"
  },
  {
   "cell_type": "code",
   "execution_count": null,
   "metadata": {},
   "outputs": [
    {
     "output_type": "display_data",
     "metadata": {},
     "data": {}
    }
   ],
   "source": [
    "ggplot(data = df, aes(x = x_1, y = mu, color = x_2)) + \n",
    "  geom_point()"
   ],
   "id": "cell-fig-plotlmsimB"
  },
  {
   "cell_type": "code",
   "execution_count": null,
   "metadata": {},
   "outputs": [
    {
     "output_type": "display_data",
     "metadata": {},
     "data": {}
    }
   ],
   "source": [
    "ggplot(data = df, aes(x = x_2, y = mu, color = x_1)) + \n",
    "  geom_point()"
   ],
   "id": "cell-fig-plotlmsimC"
  },
  {
   "cell_type": "code",
   "execution_count": null,
   "metadata": {},
   "outputs": [
    {
     "output_type": "display_data",
     "metadata": {},
     "data": {}
    }
   ],
   "source": [
    "ggplot(data = df, aes(x = x_1, y = x_2, color = mu)) + \n",
    "  geom_point()"
   ],
   "id": "cell-fig-plotlmsimD"
  },
  {
   "cell_type": "code",
   "execution_count": null,
   "metadata": {},
   "outputs": [
    {
     "output_type": "display_data",
     "metadata": {},
     "data": {}
    }
   ],
   "source": [
    "ggplot(data = df, aes(x = x_1, y = x_2, color = y)) + \n",
    "  geom_point()"
   ],
   "id": "cell-fig-plotlmsimE"
  },
  {
   "cell_type": "markdown",
   "metadata": {},
   "source": [
    "## Modeling\n",
    "\n",
    "The basic R command for (frequentist) estimation of the parameters of a linear regression model is a call to the function `lm`:"
   ],
   "id": "66bdd0e1-4060-4f45-a752-03776411cdd0"
  },
  {
   "cell_type": "code",
   "execution_count": null,
   "metadata": {},
   "outputs": [
    {
     "output_type": "stream",
     "name": "stdout",
     "text": [
      "\n",
      "Call:\n",
      "lm(formula = y ~ x_1 + x_2, data = df)\n",
      "\n",
      "Residuals:\n",
      "     Min       1Q   Median       3Q      Max \n",
      "-0.82082 -0.19805  0.00329  0.19051  0.81138 \n",
      "\n",
      "Coefficients:\n",
      "            Estimate Std. Error t value Pr(>|t|)    \n",
      "(Intercept)  0.91291    0.03448  26.476  < 2e-16 ***\n",
      "x_1          0.91533    0.04668  19.610  < 2e-16 ***\n",
      "x_2         -0.36218    0.04566  -7.933 1.43e-14 ***\n",
      "---\n",
      "Signif. codes:  0 '***' 0.001 '**' 0.01 '*' 0.05 '.' 0.1 ' ' 1\n",
      "\n",
      "Residual standard error: 0.2963 on 497 degrees of freedom\n",
      "Multiple R-squared:  0.4674,    Adjusted R-squared:  0.4652 \n",
      "F-statistic:   218 on 2 and 497 DF,  p-value: < 2.2e-16"
     ]
    }
   ],
   "source": [
    "m <- lm(y ~ x_1 + x_2, data = df)\n",
    "summary(m)"
   ],
   "id": "17ee6d3d-4d66-4a81-9a37-9b2125266017"
  },
  {
   "cell_type": "markdown",
   "metadata": {},
   "source": [
    "### Visualisations"
   ],
   "id": "0de17bf9-524c-4fcb-aaba-84d3a9021988"
  },
  {
   "cell_type": "code",
   "execution_count": null,
   "metadata": {},
   "outputs": [
    {
     "output_type": "display_data",
     "metadata": {},
     "data": {}
    }
   ],
   "source": [
    "nd <- data.frame(x_1 = seq(0, 1, by = .1), \n",
    "                 x_2 = .5)\n",
    "nd$mu <- predict(m, newdata = nd)\n",
    "ggplot(data = df, aes(x = x_1, y = mu, color = x_2)) + \n",
    "  geom_point() + \n",
    "  geom_line(data = nd, aes(x = x_1, y = mu, color = x_2))"
   ],
   "id": "cell-fig-plotlmsimF"
  },
  {
   "cell_type": "code",
   "execution_count": null,
   "metadata": {},
   "outputs": [
    {
     "output_type": "display_data",
     "metadata": {},
     "data": {}
    }
   ],
   "source": [
    "nd <- data.frame(expand.grid('x_1' = seq(0, 1, by = .1), \n",
    "                             'x_2' = seq(0, 1, by = .1)))\n",
    "nd$mu <- predict(m, newdata = nd)\n",
    "ggplot(data = df, aes(x = x_1, y = mu, color = x_2)) + \n",
    "  geom_point() + \n",
    "  geom_line(data = nd, aes(x = x_1, y = mu, color = x_2, group = x_2))"
   ],
   "id": "cell-fig-plotlmsimG"
  },
  {
   "cell_type": "markdown",
   "metadata": {},
   "source": [
    "## Add-Ons\n",
    "\n",
    "### Add-On Linear Model: A) Stancode\n",
    "\n",
    "#### Stan Users Guide\n",
    "\n",
    "*Probabilistic Programming Languages* such as *Stan* ([Carpenter et al., 2017](#ref-CarpenterEtAl2017)) allow to `plug together` the single parts of a statistical regression model[1]:\n",
    "\n",
    "The following Stan-code is published [here](https://mc-stan.org/docs/stan-users-guide/regression.html) in the [Stan users guide](https://mc-stan.org/docs/stan-users-guide/index.html):\n",
    "\n",
    "[1] Which is actually pretty ‘readable’ if you get used to the structure for a simple model such the linear regression model."
   ],
   "id": "13314f3e-e40b-45ae-8af4-d6a3a9237bd6"
  },
  {
   "cell_type": "code",
   "execution_count": null,
   "metadata": {},
   "outputs": [
    {
     "output_type": "stream",
     "name": "stdout",
     "text": [
      "data {\n",
      "  int<lower=0> N;\n",
      "  vector[N] x;\n",
      "  vector[N] y;\n",
      "}\n",
      "parameters {\n",
      "  real alpha;\n",
      "  real beta;\n",
      "  real<lower=0> sigma;\n",
      "}\n",
      "model {\n",
      "  y ~ normal(alpha + beta * x, sigma);\n",
      "}"
     ]
    }
   ],
   "source": [
    "cat(readLines(\"lm.stan\"), sep = \"\\n\")"
   ],
   "id": "2e6fb8e1-cfd8-47c1-8755-09cd57e0671c"
  },
  {
   "cell_type": "markdown",
   "metadata": {},
   "source": [
    "#### Stancode generated by calling `brms::brm`\n",
    "\n",
    "The R add-on package *brms* ([Bürkner, 2017](#ref-Buerkner2017), [2018](#ref-Buerkner2018)) allows to implent advanced regression models without being an expert in ‘Stan-programming’.\n",
    "\n",
    "Here is the Stan-code that is implemented by ‘brms’ for our linear regression model example:"
   ],
   "id": "eb3cf988-b122-4990-9e1f-7ab0f6e16a55"
  },
  {
   "cell_type": "code",
   "execution_count": null,
   "metadata": {},
   "outputs": [],
   "source": [
    "brms::make_stancode(brms::bf(y ~ x_1 + x_2, center = F), data = df)"
   ],
   "id": "260ef9bc-d54e-4d97-bb38-1eb62dab1927"
  },
  {
   "cell_type": "code",
   "execution_count": null,
   "metadata": {},
   "outputs": [
    {
     "output_type": "stream",
     "name": "stdout",
     "text": [
      "// generated with brms 2.21.0\n",
      "functions {\n",
      "}\n",
      "data {\n",
      "  int<lower=1> N;  // total number of observations\n",
      "  vector[N] Y;  // response variable\n",
      "  int<lower=1> K;  // number of population-level effects\n",
      "  matrix[N, K] X;  // population-level design matrix\n",
      "  int prior_only;  // should the likelihood be ignored?\n",
      "}\n",
      "transformed data {\n",
      "}\n",
      "parameters {\n",
      "  vector[K] b;  // regression coefficients\n",
      "  real<lower=0> sigma;  // dispersion parameter\n",
      "}\n",
      "transformed parameters {\n",
      "  real lprior = 0;  // prior contributions to the log posterior\n",
      "  lprior += student_t_lpdf(sigma | 3, 0, 2.5)\n",
      "    - 1 * student_t_lccdf(0 | 3, 0, 2.5);\n",
      "}\n",
      "model {\n",
      "  // likelihood including constants\n",
      "  if (!prior_only) {\n",
      "    target += normal_id_glm_lpdf(Y | X, 0, b, sigma);\n",
      "  }\n",
      "  // priors including constants\n",
      "  target += lprior;\n",
      "}\n",
      "generated quantities {\n",
      "}"
     ]
    }
   ],
   "source": [
    "cat(readLines(\"lm_brms.stan\"), sep = \"\\n\")"
   ],
   "id": "26140139-fb9a-4a84-9393-f6494a712440"
  },
  {
   "cell_type": "markdown",
   "metadata": {},
   "source": [
    "### Add-On Linear Model: B) Posterior predictive check: an introduction ‘by hand’\n",
    "\n",
    "Having an `lm` object already, it is rather straightforward to get posterior samples by using function `sim` from the *arm* ([Gelman & Su, 2024](#ref-GelmanSu2024)) package:"
   ],
   "id": "1236e645-f7a5-4adb-ac9f-6a8d5cf997ad"
  },
  {
   "cell_type": "code",
   "execution_count": null,
   "metadata": {},
   "outputs": [
    {
     "output_type": "stream",
     "name": "stderr",
     "text": [
      "Lade nötiges Paket: MASS"
     ]
    },
    {
     "output_type": "stream",
     "name": "stderr",
     "text": [
      "Lade nötiges Paket: Matrix"
     ]
    },
    {
     "output_type": "stream",
     "name": "stderr",
     "text": [
      "Lade nötiges Paket: lme4"
     ]
    },
    {
     "output_type": "stream",
     "name": "stderr",
     "text": [
      "Warning in check_dep_version(): ABI version mismatch: \n",
      "lme4 was built with Matrix ABI version 1\n",
      "Current Matrix ABI version is 2\n",
      "Please re-install lme4 from source or restore original 'Matrix' package"
     ]
    },
    {
     "output_type": "stream",
     "name": "stderr",
     "text": [
      "\n",
      "arm (Version 1.14-4, built: 2024-4-1)"
     ]
    },
    {
     "output_type": "stream",
     "name": "stderr",
     "text": [
      "Working directory is /home/hsennhenn/Dropbox/teaching/Statistical_Modeling_and_Advanced_Regression_Analyses"
     ]
    },
    {
     "output_type": "stream",
     "name": "stdout",
     "text": [
      "Formal class 'sim' [package \"arm\"] with 2 slots\n",
      "  ..@ coef : num [1:100, 1:3] 0.882 1.014 0.904 0.978 0.958 ...\n",
      "  .. ..- attr(*, \"dimnames\")=List of 2\n",
      "  .. .. ..$ : NULL\n",
      "  .. .. ..$ : chr [1:3] \"(Intercept)\" \"x_1\" \"x_2\"\n",
      "  ..@ sigma: num [1:100] 0.323 0.303 0.292 0.309 0.29 ..."
     ]
    },
    {
     "output_type": "stream",
     "name": "stdout",
     "text": [
      "     (Intercept)       x_1        x_2     sigma\n",
      "[1,]   0.8816414 0.9245094 -0.3362733 0.3227662\n",
      "[2,]   1.0139849 0.7317948 -0.3398411 0.3033703\n",
      "[3,]   0.9037042 0.9155575 -0.3506924 0.2922883\n",
      "[4,]   0.9776909 0.8392790 -0.3845609 0.3090220\n",
      "[5,]   0.9579213 0.8977625 -0.4284596 0.2900632\n",
      "[6,]   0.9549211 0.8478278 -0.3937226 0.3094227"
     ]
    }
   ],
   "source": [
    "library(\"arm\")"
   ],
   "id": "111dc70d-6902-4704-9d9f-9a9e14e84b2e"
  },
  {
   "cell_type": "markdown",
   "metadata": {},
   "source": [
    "Predict the response for the covariate data as provided by the original data-frame `df` - here only by using the first posterior sample:"
   ],
   "id": "c348843f-4898-410f-aec2-5a90421c60ea"
  },
  {
   "cell_type": "code",
   "execution_count": null,
   "metadata": {},
   "outputs": [
    {
     "output_type": "stream",
     "name": "stdout",
     "text": [
      "(Intercept)         x_1         x_2       sigma \n",
      "  0.8816414   0.9245094  -0.3362733   0.3227662 "
     ]
    },
    {
     "output_type": "stream",
     "name": "stderr",
     "text": [
      "`stat_bin()` using `bins = 30`. Pick better value with `binwidth`."
     ]
    },
    {
     "output_type": "display_data",
     "metadata": {},
     "data": {}
    }
   ],
   "source": [
    "s <- 1\n",
    "S[s, ]"
   ],
   "id": "cell-fig-plotlmsimH"
  },
  {
   "cell_type": "markdown",
   "metadata": {},
   "source": [
    "Now let’s repeat the same for 9 different posterior samples:"
   ],
   "id": "516c4955-2050-4682-bb38-365f0aa26073"
  },
  {
   "cell_type": "code",
   "execution_count": null,
   "metadata": {},
   "outputs": [
    {
     "output_type": "stream",
     "name": "stderr",
     "text": [
      "`stat_bin()` using `bins = 30`. Pick better value with `binwidth`."
     ]
    },
    {
     "output_type": "display_data",
     "metadata": {},
     "data": {}
    }
   ],
   "source": [
    "pp <- NULL\n",
    "for (s in 1:9) {\n",
    "  mu_s <- S[s, '(Intercept)'] + S[s, 'x_1'] * df$x_1 + S[s, 'x_2'] * df$x_2\n",
    "  y_s <- rnorm(n = nrow(df), mean = mu_s, sd = S[s, 'sigma'])\n",
    "  pp <- rbind(pp, \n",
    "              data.frame(y = df$y, source = \"original\", s = s), \n",
    "              data.frame(y = y_s, source = \"predicted\", s = s))\n",
    "}\n",
    "ggplot(data = pp, aes(x = y, fill = source)) + \n",
    "  geom_histogram(alpha = .5, position = \"identity\") + \n",
    "  facet_wrap(~ s)"
   ],
   "id": "cell-fig-plotlmsimI"
  },
  {
   "cell_type": "code",
   "execution_count": null,
   "metadata": {},
   "outputs": [
    {
     "output_type": "display_data",
     "metadata": {},
     "data": {}
    }
   ],
   "source": [
    "ggplot(data = pp, aes(x = y, fill = source)) + \n",
    "  geom_density(alpha = .5, position = \"identity\") + \n",
    "  facet_wrap(~ s)"
   ],
   "id": "cell-fig-plotlmsimJ"
  },
  {
   "cell_type": "code",
   "execution_count": null,
   "metadata": {},
   "outputs": [
    {
     "output_type": "display_data",
     "metadata": {},
     "data": {}
    }
   ],
   "source": [
    "ggplot(data = pp, aes(x = y, colour = source)) + \n",
    "  stat_ecdf() + \n",
    "  facet_wrap(~ s)"
   ],
   "id": "cell-fig-plotlmsimK"
  },
  {
   "cell_type": "code",
   "execution_count": null,
   "metadata": {},
   "outputs": [
    {
     "output_type": "display_data",
     "metadata": {},
     "data": {}
    }
   ],
   "source": [
    "ggplot(data = subset(pp, source == \"predicted\"),\n",
    "       aes(x = y, group = s)) + \n",
    "  geom_density(position = \"identity\", fill = NA, colour = \"grey\") +\n",
    "  geom_density(data = subset(pp, source == \"original\" & s == 1), \n",
    "               aes(x = y), linewidth = 1)"
   ],
   "id": "cell-fig-plotlmsimL"
  },
  {
   "cell_type": "markdown",
   "metadata": {},
   "source": [
    "# Binary Regression Model"
   ],
   "id": "191b8af8-8e9b-4eb5-8b03-aef03af82ecd"
  },
  {
   "cell_type": "code",
   "execution_count": null,
   "metadata": {},
   "outputs": [],
   "source": [
    "rm(list = ls())\n",
    "library(\"ggplot2\")\n",
    "library(\"plyr\")"
   ],
   "id": "8c1577d1-b4c2-4cde-ad9f-aa102981f8f4"
  },
  {
   "cell_type": "markdown",
   "metadata": {},
   "source": [
    "## Data Simulation\n",
    "\n",
    "Data are simulated similarly as for the linear model:"
   ],
   "id": "07bf11bc-a715-4aa2-b81b-f2e8cf4eb343"
  },
  {
   "cell_type": "code",
   "execution_count": null,
   "metadata": {},
   "outputs": [
    {
     "output_type": "stream",
     "name": "stdout",
     "text": [
      "[1] -0.06018928"
     ]
    },
    {
     "output_type": "stream",
     "name": "stdout",
     "text": [
      "[1] 0.9006301"
     ]
    },
    {
     "output_type": "stream",
     "name": "stdout",
     "text": [
      "[1] -0.3973215"
     ]
    }
   ],
   "source": [
    "set.seed(123)\n",
    "N <- 500\n",
    "df <- data.frame(x_1 = runif(n = N), \n",
    "                 x_2 = runif(n = N))\n",
    "(beta_0 <- rnorm(n = 1, mean = 0, sd = .1))"
   ],
   "id": "184ff529-b51f-4e8e-9474-0ae2b2211562"
  },
  {
   "cell_type": "markdown",
   "metadata": {},
   "source": [
    "### Visualisations"
   ],
   "id": "19df65d3-309e-4605-b968-d4ba39d365aa"
  },
  {
   "cell_type": "code",
   "execution_count": null,
   "metadata": {},
   "outputs": [
    {
     "output_type": "display_data",
     "metadata": {},
     "data": {}
    }
   ],
   "source": [
    "df$x_1_c <- cut(df$x_1, breaks = seq(0, 1, by = .1), \n",
    "                include.lowest = T, \n",
    "                labels = seq(.05, .95, by = .1))\n",
    "df$x_1_c <- as.numeric(as.character(df$x_1_c))\n",
    "df_p_A <- ddply(df, c(\"x_1_c\"), summarise, \n",
    "                p = mean(y > .5))\n",
    "df_p_A <- data.frame('p' = rep(df_p_A$p, each = 2), \n",
    "                     'x_1' = sort(c(df_p_A$x_1_c - .05, \n",
    "                                    df_p_A$x_1_c + .05)))\n",
    "df_p_B <- data.frame('x_1' = seq(0, 1, by = .01), \n",
    "                     'p' = plogis(beta_0 + \n",
    "                                    beta_x_1 * seq(0, 1, by = .01) + \n",
    "                                    beta_x_2 * .5))\n",
    "set.seed(0)\n",
    "ggplot(data = df, aes(x = x_1, y = y)) + \n",
    "  geom_jitter(aes(color = x_2), width = 0, height = .1) +\n",
    "  geom_line(data = df_p_A, aes(y = p, group = p)) +\n",
    "  geom_line(data = df_p_B, aes(y = p), linetype = 2)\n",
    "## ... 'not as linear as it seems':\n",
    "# plot(df_p_B$x_1[-1], diff(df_p_B$p))"
   ],
   "id": "cell-fig-plotbinomsimA"
  },
  {
   "cell_type": "markdown",
   "metadata": {},
   "source": [
    "## Modeling\n",
    "\n",
    "The basic R command for (frequentist) estimation of the parameters of a binary regression model is a call to the function `glm` with `family` argument `binomial`:"
   ],
   "id": "f8afe61b-6764-405f-9722-2f9a0aa2dd01"
  },
  {
   "cell_type": "code",
   "execution_count": null,
   "metadata": {},
   "outputs": [
    {
     "output_type": "stream",
     "name": "stdout",
     "text": [
      "\n",
      "Call:\n",
      "glm(formula = y ~ x_1 + x_2, family = binomial(link = \"logit\"), \n",
      "    data = df)\n",
      "\n",
      "Coefficients:\n",
      "            Estimate Std. Error z value Pr(>|z|)    \n",
      "(Intercept)  -0.2908     0.2358  -1.233 0.217531    \n",
      "x_1           1.1598     0.3248   3.570 0.000356 ***\n",
      "x_2          -0.1713     0.3138  -0.546 0.585034    \n",
      "---\n",
      "Signif. codes:  0 '***' 0.001 '**' 0.01 '*' 0.05 '.' 0.1 ' ' 1\n",
      "\n",
      "(Dispersion parameter for binomial family taken to be 1)\n",
      "\n",
      "    Null deviance: 688.53  on 499  degrees of freedom\n",
      "Residual deviance: 675.30  on 497  degrees of freedom\n",
      "AIC: 681.3\n",
      "\n",
      "Number of Fisher Scoring iterations: 4"
     ]
    }
   ],
   "source": [
    "m <- glm(y ~ x_1 + x_2, data = df, \n",
    "         family = binomial(link = 'logit'))\n",
    "summary(m)"
   ],
   "id": "a8fae6ff-3b29-44ee-854f-f3df0d7621f0"
  },
  {
   "cell_type": "markdown",
   "metadata": {},
   "source": [
    "### Visualisations"
   ],
   "id": "ff6bb6da-101d-4eef-ac8f-c2c86ad0648d"
  },
  {
   "cell_type": "code",
   "execution_count": null,
   "metadata": {},
   "outputs": [
    {
     "output_type": "stream",
     "name": "stdout",
     "text": [
      "         1          2 \n",
      "-0.3764387  0.7833343 "
     ]
    },
    {
     "output_type": "stream",
     "name": "stdout",
     "text": [
      "[1] -0.3764387  0.7833343"
     ]
    },
    {
     "output_type": "stream",
     "name": "stdout",
     "text": [
      "        1         2 \n",
      "0.2891090 0.1177866 "
     ]
    },
    {
     "output_type": "stream",
     "name": "stdout",
     "text": [
      "[1] 0.2891090 0.1177866"
     ]
    },
    {
     "output_type": "display_data",
     "metadata": {},
     "data": {}
    }
   ],
   "source": [
    "nd <- data.frame('x_1' = 0:1, 'x_2' = .5)\n",
    "(nd$eta <- predict(m, newdata = nd, type = 'link'))"
   ],
   "id": "cell-fig-plotbinomsimB"
  },
  {
   "cell_type": "code",
   "execution_count": null,
   "metadata": {},
   "outputs": [
    {
     "output_type": "stream",
     "name": "stdout",
     "text": [
      " [1] 0.4069861 0.4352503 0.4639417 0.4928738 0.5218537 0.5506872 0.5791841\n",
      " [8] 0.6071630 0.6344556 0.6609111 0.6863983"
     ]
    },
    {
     "output_type": "stream",
     "name": "stdout",
     "text": [
      " [1] 0.4069861 0.4352503 0.4639417 0.4928738 0.5218537 0.5506872 0.5791841\n",
      " [8] 0.6071630 0.6344556 0.6609111 0.6863983"
     ]
    },
    {
     "output_type": "display_data",
     "metadata": {},
     "data": {}
    }
   ],
   "source": [
    "nd <- data.frame(x_1 = seq(0, 1, by = .1), \n",
    "                 x_2 = .5)\n",
    "(nd$p <- predict(m, newdata = nd, type = 'response'))"
   ],
   "id": "cell-fig-plotbinomsimC"
  },
  {
   "cell_type": "markdown",
   "metadata": {},
   "source": [
    "### Estimated Expected Value\n",
    "\n",
    "We can apply the [Bernstein-von Mises theorem](https://en.wikipedia.org/wiki/Bernstein%E2%80%93von_Mises_theorem) to estimate the *expected value*:\n",
    "\n",
    "-   **Fit the model**: Obtain the maximum likelihood estimate for the model’s coefficients (`coef`) along with their variance-covariance matrix (`vcov`).\n",
    "-   **Simulate coefficients**: Perform an ‘informal’ Bayesian posterior simulation using the multivariate normal distribution, based on the *Bernstein-von Mises theorem*.\n",
    "-   **Convert simulated coefficients**: Apply an appropriate transformation to the simulated coefficients to compute the *simulated quantity of interest*. This quantity typically depends on the values of all explanatory variables, and researchers may:\n",
    "    -   Focus on a specific observation (usually an ‘average’), or\n",
    "    -   Average across all sample observations.\n",
    "\n",
    "In both cases, the applied transformation incorporates the researcher’s specific choice."
   ],
   "id": "23e1e3d0-56a2-44fe-beca-8d540f342232"
  },
  {
   "cell_type": "code",
   "execution_count": null,
   "metadata": {},
   "outputs": [
    {
     "output_type": "stream",
     "name": "stdout",
     "text": [
      "(Intercept)         x_1         x_2 \n",
      " -0.2907775   1.1597730  -0.1713224 "
     ]
    },
    {
     "output_type": "stream",
     "name": "stdout",
     "text": [
      "            (Intercept)          x_1          x_2\n",
      "(Intercept)  0.05560471 -0.048970067 -0.047028038\n",
      "x_1         -0.04897007  0.105509175 -0.004560743\n",
      "x_2         -0.04702804 -0.004560743  0.098439583"
     ]
    },
    {
     "output_type": "stream",
     "name": "stdout",
     "text": [
      "     (Intercept)       x_1        x_2\n",
      "[1,] -0.08125910 0.6544775 -0.2581602\n",
      "[2,] -0.40299145 1.3779659 -0.3263178\n",
      "[3,]  0.09915843 1.0089580 -0.5398310\n",
      "[4,]  0.03289839 0.8600445 -0.3880109\n",
      "[5,] -0.12814786 1.3256621 -0.5036957\n",
      "[6,] -0.55953065 1.4562644  0.3176658"
     ]
    },
    {
     "output_type": "stream",
     "name": "stdout",
     "text": [
      "  x_1 x_2 s\n",
      "1 0.0 0.5 1\n",
      "2 0.1 0.5 1\n",
      "3 0.2 0.5 1\n",
      "4 0.3 0.5 1\n",
      "5 0.4 0.5 1\n",
      "6 0.5 0.5 1"
     ]
    },
    {
     "output_type": "display_data",
     "metadata": {},
     "data": {}
    }
   ],
   "source": [
    "library(\"MASS\")\n",
    "coef(m)"
   ],
   "id": "cell-fig-plotbinomsimD"
  },
  {
   "cell_type": "markdown",
   "metadata": {},
   "source": [
    "# Poisson Regression Model"
   ],
   "id": "48c55fd9-f0fd-4ffd-9aa6-1ee445160a63"
  },
  {
   "cell_type": "code",
   "execution_count": null,
   "metadata": {},
   "outputs": [],
   "source": [
    "rm(list = ls())\n",
    "library(\"ggplot2\")"
   ],
   "id": "a1bb16fe-1681-4538-b1f6-7d664075e43d"
  },
  {
   "cell_type": "markdown",
   "metadata": {},
   "source": [
    "## Data Simulation\n",
    "\n",
    "Data are simulated similarly as for the linear model:"
   ],
   "id": "f21e2820-6db2-4c1e-b886-81481fe0973f"
  },
  {
   "cell_type": "code",
   "execution_count": null,
   "metadata": {},
   "outputs": [
    {
     "output_type": "stream",
     "name": "stdout",
     "text": [
      "[1] -0.06018928"
     ]
    },
    {
     "output_type": "stream",
     "name": "stdout",
     "text": [
      "[1] 0.9006301"
     ]
    },
    {
     "output_type": "stream",
     "name": "stdout",
     "text": [
      "[1] -0.3973215"
     ]
    }
   ],
   "source": [
    "set.seed(123)\n",
    "N <- 500\n",
    "df <- data.frame(x_1 = runif(n = N), \n",
    "                 x_2 = runif(n = N))\n",
    "(beta_0 <- rnorm(n = 1, mean = 0, sd = .1))"
   ],
   "id": "c7cc0f06-f69b-43ee-b6fe-7991d9257f70"
  },
  {
   "cell_type": "markdown",
   "metadata": {},
   "source": [
    "### Visualisations"
   ],
   "id": "facce98f-be19-4407-834a-cc84d1637fd7"
  },
  {
   "cell_type": "code",
   "execution_count": null,
   "metadata": {},
   "outputs": [
    {
     "output_type": "display_data",
     "metadata": {},
     "data": {}
    }
   ],
   "source": [
    "df$x_1_c <- cut(df$x_1, breaks = seq(0, 1, by = .1), \n",
    "                include.lowest = T, \n",
    "                labels = seq(.05, .95, by = .1))\n",
    "df$x_1_c <- as.numeric(as.character(df$x_1_c))\n",
    "df_p_A <- ddply(df, c(\"x_1_c\"), summarise, \n",
    "                mu = mean(y))\n",
    "df_p_A <- data.frame('mu' = rep(df_p_A$mu, each = 2), \n",
    "                     'x_1' = sort(c(df_p_A$x_1_c - .05, \n",
    "                                    df_p_A$x_1_c + .05)))\n",
    "df_p_B <- data.frame('x_1' = seq(0, 1, by = .01), \n",
    "                     'mu' = exp(beta_0 + \n",
    "                                beta_x_1 * seq(0, 1, by = .01) + \n",
    "                                beta_x_2 * .5))\n",
    "set.seed(0)\n",
    "ggplot(data = df, aes(x = x_1, y = y)) + \n",
    "  geom_jitter(aes(color = x_2), width = 0, height = .1) +\n",
    "  geom_line(data = df_p_A, aes(y = mu, group = mu)) +\n",
    "  geom_line(data = df_p_B, aes(y = mu), linetype = 2)"
   ],
   "id": "cell-fig-plotpoissimB"
  },
  {
   "cell_type": "markdown",
   "metadata": {},
   "source": [
    "## Modeling\n",
    "\n",
    "The basic R command for (frequentist) estimation of the parameters of a binary regression model is a call to the function `glm` with `family` argument `poisson(link = 'log')`:"
   ],
   "id": "82de7ec2-0d13-49a5-9728-370c6fd29b5d"
  },
  {
   "cell_type": "code",
   "execution_count": null,
   "metadata": {},
   "outputs": [
    {
     "output_type": "stream",
     "name": "stdout",
     "text": [
      "\n",
      "Call:\n",
      "glm(formula = y ~ x_1 + x_2, family = poisson(link = \"log\"), \n",
      "    data = df)\n",
      "\n",
      "Coefficients:\n",
      "            Estimate Std. Error z value Pr(>|z|)    \n",
      "(Intercept) -0.09637    0.11000  -0.876    0.381    \n",
      "x_1          1.05534    0.14351   7.354 1.93e-13 ***\n",
      "x_2         -0.54067    0.13875  -3.897 9.74e-05 ***\n",
      "---\n",
      "Signif. codes:  0 '***' 0.001 '**' 0.01 '*' 0.05 '.' 0.1 ' ' 1\n",
      "\n",
      "(Dispersion parameter for poisson family taken to be 1)\n",
      "\n",
      "    Null deviance: 619.76  on 499  degrees of freedom\n",
      "Residual deviance: 551.67  on 497  degrees of freedom\n",
      "AIC: 1395.1\n",
      "\n",
      "Number of Fisher Scoring iterations: 5"
     ]
    }
   ],
   "source": [
    "m <- glm(y ~ x_1 + x_2, data = df, family = poisson(link = 'log'))\n",
    "summary(m)"
   ],
   "id": "13f34bcd-ad71-4014-9dec-4eefe01ede8a"
  },
  {
   "cell_type": "markdown",
   "metadata": {},
   "source": [
    "### Estimated Expected Value\n",
    "\n",
    "Let’s again apply the [Bernstein-von Mises theorem](:https://en.wikipedia.org/wiki/Bernstein%E2%80%93von_Mises_theorem)"
   ],
   "id": "22dfb0cb-f75e-44e4-ae6e-6463bd21c3f3"
  },
  {
   "cell_type": "code",
   "execution_count": null,
   "metadata": {},
   "outputs": [
    {
     "output_type": "stream",
     "name": "stdout",
     "text": [
      "(Intercept)         x_1         x_2 \n",
      "-0.09636825  1.05534471 -0.54067416 "
     ]
    },
    {
     "output_type": "stream",
     "name": "stdout",
     "text": [
      "             (Intercept)           x_1           x_2\n",
      "(Intercept)  0.012100215 -0.0115419704 -0.0083283575\n",
      "x_1         -0.011541970  0.0205956476 -0.0008112633\n",
      "x_2         -0.008328358 -0.0008112633  0.0192505213"
     ]
    },
    {
     "output_type": "stream",
     "name": "stdout",
     "text": [
      "     (Intercept)       x_1        x_2\n",
      "[1,]  0.05743986 0.8596548 -0.5240625\n",
      "[2,] -0.10120645 1.1692825 -0.5989887\n",
      "[3,]  0.01910641 0.9263818 -0.7232511\n",
      "[4,]  0.02386701 0.8912981 -0.6321912\n",
      "[5,] -0.06117581 1.0833727 -0.7137618\n",
      "[6,] -0.30539283 1.1687677 -0.3825595"
     ]
    },
    {
     "output_type": "stream",
     "name": "stdout",
     "text": [
      "  x_1 x_2 s\n",
      "1 0.0 0.5 1\n",
      "2 0.1 0.5 1\n",
      "3 0.2 0.5 1\n",
      "4 0.3 0.5 1\n",
      "5 0.4 0.5 1\n",
      "6 0.5 0.5 1"
     ]
    },
    {
     "output_type": "display_data",
     "metadata": {},
     "data": {}
    }
   ],
   "source": [
    "library(\"MASS\")\n",
    "coef(m)"
   ],
   "id": "cell-fig-plotpoissimC"
  },
  {
   "cell_type": "markdown",
   "metadata": {},
   "source": [
    "# References\n",
    "\n",
    "Allaire, J. J., Teague, C., Scheidegger, C., Xie, Y., & Dervieux, C. (2024). *Quarto (Version 1.4.553)*. <https://doi.org/10.5281/zenodo.5960048>\n",
    "\n",
    "Bürkner, P.-C. (2017). Brms: An R Package for Bayesian Multilevel Models Using Stan. *Journal of Statistical Software*, *80*, 1–28. <https://doi.org/10.18637/jss.v080.i01>\n",
    "\n",
    "Bürkner, P.-C. (2018). Advanced Bayesian Multilevel Modeling with the R Package brms. *The R Journal*, *10*(1), 395–411.\n",
    "\n",
    "Carpenter, B., Gelman, A., Hoffman, M. D., Lee, D., Goodrich, B., Betancourt, M., Brubaker, M., Guo, J., Li, P., & Riddell, A. (2017). Stan: A Probabilistic Programming Language. *Journal of Statistical Software*, *76*, 1–32. <https://doi.org/10.18637/jss.v076.i01>\n",
    "\n",
    "Gelman, A., & Su, Y.-S. (2024). *Arm: Data analysis using regression and multilevel/hierarchical models*. <https://CRAN.R-project.org/package=arm>\n",
    "\n",
    "R Core Team. (2024). *R: A Language and Environment for Statistical Computing (Version 4.4.1)*. R Foundation for Statistical Computing.\n",
    "\n",
    "Wickham, H. (2016). *ggplot2: Elegant graphics for data analysis*. Springer-Verlag New York. <https://ggplot2.tidyverse.org>"
   ],
   "id": "e6f84bf8-46fb-461f-8164-c8e05ddc79d1"
  }
 ],
 "nbformat": 4,
 "nbformat_minor": 5,
 "metadata": {}
}

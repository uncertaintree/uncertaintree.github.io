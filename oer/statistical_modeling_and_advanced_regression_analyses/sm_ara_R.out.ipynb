{
 "cells": [
  {
   "cell_type": "markdown",
   "metadata": {},
   "source": [
    "# Statictical Modeling and Advanced Regression Analyses\n",
    "\n",
    "R Tutorials\n",
    "\n",
    "Holger Sennhenn-Reulen [![](data:image/png;base64,iVBORw0KGgoAAAANSUhEUgAAABAAAAAQCAYAAAAf8/9hAAAAGXRFWHRTb2Z0d2FyZQBBZG9iZSBJbWFnZVJlYWR5ccllPAAAA2ZpVFh0WE1MOmNvbS5hZG9iZS54bXAAAAAAADw/eHBhY2tldCBiZWdpbj0i77u/IiBpZD0iVzVNME1wQ2VoaUh6cmVTek5UY3prYzlkIj8+IDx4OnhtcG1ldGEgeG1sbnM6eD0iYWRvYmU6bnM6bWV0YS8iIHg6eG1wdGs9IkFkb2JlIFhNUCBDb3JlIDUuMC1jMDYwIDYxLjEzNDc3NywgMjAxMC8wMi8xMi0xNzozMjowMCAgICAgICAgIj4gPHJkZjpSREYgeG1sbnM6cmRmPSJodHRwOi8vd3d3LnczLm9yZy8xOTk5LzAyLzIyLXJkZi1zeW50YXgtbnMjIj4gPHJkZjpEZXNjcmlwdGlvbiByZGY6YWJvdXQ9IiIgeG1sbnM6eG1wTU09Imh0dHA6Ly9ucy5hZG9iZS5jb20veGFwLzEuMC9tbS8iIHhtbG5zOnN0UmVmPSJodHRwOi8vbnMuYWRvYmUuY29tL3hhcC8xLjAvc1R5cGUvUmVzb3VyY2VSZWYjIiB4bWxuczp4bXA9Imh0dHA6Ly9ucy5hZG9iZS5jb20veGFwLzEuMC8iIHhtcE1NOk9yaWdpbmFsRG9jdW1lbnRJRD0ieG1wLmRpZDo1N0NEMjA4MDI1MjA2ODExOTk0QzkzNTEzRjZEQTg1NyIgeG1wTU06RG9jdW1lbnRJRD0ieG1wLmRpZDozM0NDOEJGNEZGNTcxMUUxODdBOEVCODg2RjdCQ0QwOSIgeG1wTU06SW5zdGFuY2VJRD0ieG1wLmlpZDozM0NDOEJGM0ZGNTcxMUUxODdBOEVCODg2RjdCQ0QwOSIgeG1wOkNyZWF0b3JUb29sPSJBZG9iZSBQaG90b3Nob3AgQ1M1IE1hY2ludG9zaCI+IDx4bXBNTTpEZXJpdmVkRnJvbSBzdFJlZjppbnN0YW5jZUlEPSJ4bXAuaWlkOkZDN0YxMTc0MDcyMDY4MTE5NUZFRDc5MUM2MUUwNEREIiBzdFJlZjpkb2N1bWVudElEPSJ4bXAuZGlkOjU3Q0QyMDgwMjUyMDY4MTE5OTRDOTM1MTNGNkRBODU3Ii8+IDwvcmRmOkRlc2NyaXB0aW9uPiA8L3JkZjpSREY+IDwveDp4bXBtZXRhPiA8P3hwYWNrZXQgZW5kPSJyIj8+84NovQAAAR1JREFUeNpiZEADy85ZJgCpeCB2QJM6AMQLo4yOL0AWZETSqACk1gOxAQN+cAGIA4EGPQBxmJA0nwdpjjQ8xqArmczw5tMHXAaALDgP1QMxAGqzAAPxQACqh4ER6uf5MBlkm0X4EGayMfMw/Pr7Bd2gRBZogMFBrv01hisv5jLsv9nLAPIOMnjy8RDDyYctyAbFM2EJbRQw+aAWw/LzVgx7b+cwCHKqMhjJFCBLOzAR6+lXX84xnHjYyqAo5IUizkRCwIENQQckGSDGY4TVgAPEaraQr2a4/24bSuoExcJCfAEJihXkWDj3ZAKy9EJGaEo8T0QSxkjSwORsCAuDQCD+QILmD1A9kECEZgxDaEZhICIzGcIyEyOl2RkgwAAhkmC+eAm0TAAAAABJRU5ErkJggg==)](https://orcid.org/0000-0002-4782-4387) (Northwest German Forest Research Institute (NW-FVA))  \n",
    "October 14, 2024"
   ],
   "id": "02d25473-30b0-46c7-9b16-12dd2f02e94d"
  },
  {
   "cell_type": "raw",
   "metadata": {
    "raw_mimetype": "text/html"
   },
   "source": [
    "<!-- ```{r} -->"
   ],
   "id": "66456d94-b019-46d8-a11b-f64c6979bb8e"
  },
  {
   "cell_type": "raw",
   "metadata": {
    "raw_mimetype": "text/html"
   },
   "source": [
    "<!-- if(knitr::is_latex_output()) { -->"
   ],
   "id": "40a07e0e-1342-4dea-837a-23437d7459e3"
  },
  {
   "cell_type": "raw",
   "metadata": {
    "raw_mimetype": "text/html"
   },
   "source": [
    "<!--   knitr::opts_chunk$set(dev = 'tikz') -->"
   ],
   "id": "dfa12229-ca4f-4498-8aa7-04123dec3264"
  },
  {
   "cell_type": "raw",
   "metadata": {
    "raw_mimetype": "text/html"
   },
   "source": [
    "<!--   options(tikzDocumentDeclaration = \"\\\\documentclass{article}\\n\\\\usepackage[lining]{ebgaramond}\") -->"
   ],
   "id": "4e81592e-1dba-4a41-9d1a-6d262ea4aab1"
  },
  {
   "cell_type": "raw",
   "metadata": {
    "raw_mimetype": "text/html"
   },
   "source": [
    "<!-- } -->"
   ],
   "id": "02ade02d-ff01-4755-bc0c-9c2c4ec9b496"
  },
  {
   "cell_type": "raw",
   "metadata": {
    "raw_mimetype": "text/html"
   },
   "source": [
    "<!-- ``` -->"
   ],
   "id": "bf7788c7-f4d6-4cff-ba5e-4a13297ce8ea"
  },
  {
   "cell_type": "markdown",
   "metadata": {},
   "source": [
    "# Software\n",
    "\n",
    "We use the statistical software environment *R* ([R Core Team, 2024](#ref-RCoreTeam2024)), and R add-on packages *ggplot2* ([Wickham, 2016](#ref-Wickham2016)), and *arm* ([Gelman & Su, 2024](#ref-GelmanSu2024))."
   ],
   "id": "7dd4b835-f436-4b54-afd1-b4413cc956fc"
  },
  {
   "cell_type": "raw",
   "metadata": {
    "raw_mimetype": "text/html"
   },
   "source": [
    "<!-- and *plyr* [@Wickham2011].  -->"
   ],
   "id": "3601e976-a67a-44a4-b9f8-a899986d51c9"
  },
  {
   "cell_type": "raw",
   "metadata": {
    "raw_mimetype": "text/html"
   },
   "source": [
    "<!-- *colorspace* [@StaufferEtAl2009] -->"
   ],
   "id": "646a235e-d938-4c24-b599-a2a7a80a03ed"
  },
  {
   "cell_type": "raw",
   "metadata": {
    "raw_mimetype": "text/html"
   },
   "source": [
    "<!-- **cowplot** [@Wilke2023] -->"
   ],
   "id": "5ed833fd-d6c0-4f85-8bce-a8dacc897fb0"
  },
  {
   "cell_type": "markdown",
   "metadata": {},
   "source": [
    "This document is produced using *Quarto* ([Allaire et al., 2024](#ref-AllaireEtAl2024)). <!-- Graphics in the PDF version are rendered using R add-on package *tikzDevice* [@SharpsteenBracken2023].  -->\n",
    "\n",
    "## Organize R Session"
   ],
   "id": "5f2a3574-6a04-4e2b-90b0-19bc9150d99a"
  },
  {
   "cell_type": "code",
   "execution_count": null,
   "metadata": {},
   "outputs": [],
   "source": [
    "rm(list = ls())\n",
    "library(\"ggplot2\")"
   ],
   "id": "0ae15311-19d0-469a-8637-78d29f9bd0f1"
  },
  {
   "cell_type": "markdown",
   "metadata": {},
   "source": [
    "# Linear Regression Model\n",
    "\n",
    "## Data Simulation\n",
    "\n",
    "Data are simulated according to the equations given in the lecture slides[1]:\n",
    "\n",
    "[1] For two covariates `x_1` and `x_2`."
   ],
   "id": "3de188eb-3b9c-4925-9c42-4278c02ab370"
  },
  {
   "cell_type": "code",
   "execution_count": null,
   "metadata": {},
   "outputs": [
    {
     "output_type": "stream",
     "name": "stdout",
     "text": [
      "[1] 0.9398107"
     ]
    },
    {
     "output_type": "stream",
     "name": "stdout",
     "text": [
      "[1] 0.9006301"
     ]
    },
    {
     "output_type": "stream",
     "name": "stdout",
     "text": [
      "[1] -0.3973215"
     ]
    },
    {
     "output_type": "stream",
     "name": "stdout",
     "text": [
      "[1] 0.293026"
     ]
    }
   ],
   "source": [
    "set.seed(123)\n",
    "N <- 500\n",
    "df <- data.frame(x_1 = runif(n = N), \n",
    "                 x_2 = runif(n = N))\n",
    "(beta_0 <- rnorm(n = 1, mean = 1, sd = .1))"
   ],
   "id": "2019c18c-60fd-454b-b4cf-96717ebdbb44"
  },
  {
   "cell_type": "markdown",
   "metadata": {},
   "source": [
    "### Visualisations"
   ],
   "id": "0aa2c9e9-4318-4140-8a6c-460e7be80f9a"
  },
  {
   "cell_type": "code",
   "execution_count": null,
   "metadata": {},
   "outputs": [
    {
     "output_type": "display_data",
     "metadata": {},
     "data": {}
    }
   ],
   "source": [
    "ggplot(data = df, aes(x = x_1, y = x_2)) + \n",
    "  geom_point()"
   ],
   "id": "cell-fig-plotlmsimA"
  },
  {
   "cell_type": "code",
   "execution_count": null,
   "metadata": {},
   "outputs": [
    {
     "output_type": "display_data",
     "metadata": {},
     "data": {}
    }
   ],
   "source": [
    "ggplot(data = df, aes(x = x_1, y = mu, color = x_2)) + \n",
    "  geom_point()"
   ],
   "id": "cell-fig-plotlmsimB"
  },
  {
   "cell_type": "code",
   "execution_count": null,
   "metadata": {},
   "outputs": [
    {
     "output_type": "display_data",
     "metadata": {},
     "data": {}
    }
   ],
   "source": [
    "ggplot(data = df, aes(x = x_2, y = mu, color = x_1)) + \n",
    "  geom_point()"
   ],
   "id": "cell-fig-plotlmsimC"
  },
  {
   "cell_type": "code",
   "execution_count": null,
   "metadata": {},
   "outputs": [
    {
     "output_type": "display_data",
     "metadata": {},
     "data": {}
    }
   ],
   "source": [
    "ggplot(data = df, aes(x = x_1, y = x_2, color = mu)) + \n",
    "  geom_point()"
   ],
   "id": "cell-fig-plotlmsimD"
  },
  {
   "cell_type": "code",
   "execution_count": null,
   "metadata": {},
   "outputs": [
    {
     "output_type": "display_data",
     "metadata": {},
     "data": {}
    }
   ],
   "source": [
    "ggplot(data = df, aes(x = x_1, y = x_2, color = y)) + \n",
    "  geom_point()"
   ],
   "id": "cell-fig-plotlmsimE"
  },
  {
   "cell_type": "markdown",
   "metadata": {},
   "source": [
    "## Modeling\n",
    "\n",
    "The basic R command for (frequentist) estimation of the parameters of a linear regression model is a call to the function `lm`:"
   ],
   "id": "de1c66c6-a0e4-45e9-bcba-ce35d0f7ef6f"
  },
  {
   "cell_type": "code",
   "execution_count": null,
   "metadata": {},
   "outputs": [
    {
     "output_type": "stream",
     "name": "stdout",
     "text": [
      "\n",
      "Call:\n",
      "lm(formula = y ~ x_1 + x_2, data = df)\n",
      "\n",
      "Residuals:\n",
      "     Min       1Q   Median       3Q      Max \n",
      "-0.82082 -0.19805  0.00329  0.19051  0.81138 \n",
      "\n",
      "Coefficients:\n",
      "            Estimate Std. Error t value Pr(>|t|)    \n",
      "(Intercept)  0.91291    0.03448  26.476  < 2e-16 ***\n",
      "x_1          0.91533    0.04668  19.610  < 2e-16 ***\n",
      "x_2         -0.36218    0.04566  -7.933 1.43e-14 ***\n",
      "---\n",
      "Signif. codes:  0 '***' 0.001 '**' 0.01 '*' 0.05 '.' 0.1 ' ' 1\n",
      "\n",
      "Residual standard error: 0.2963 on 497 degrees of freedom\n",
      "Multiple R-squared:  0.4674,    Adjusted R-squared:  0.4652 \n",
      "F-statistic:   218 on 2 and 497 DF,  p-value: < 2.2e-16"
     ]
    }
   ],
   "source": [
    "m <- lm(y ~ x_1 + x_2, data = df)\n",
    "summary(m)"
   ],
   "id": "da38c859-7191-49a1-b1bb-8ef5928e5c3a"
  },
  {
   "cell_type": "markdown",
   "metadata": {},
   "source": [
    "### Visualisations"
   ],
   "id": "e4fbefa9-bd93-4c9c-b3e1-2126f9fe4aa6"
  },
  {
   "cell_type": "code",
   "execution_count": null,
   "metadata": {},
   "outputs": [
    {
     "output_type": "display_data",
     "metadata": {},
     "data": {}
    }
   ],
   "source": [
    "nd <- data.frame(x_1 = seq(0, 1, by = .1), \n",
    "                 x_2 = .5)\n",
    "nd$mu <- predict(m, newdata = nd)\n",
    "ggplot(data = df, aes(x = x_1, y = mu, color = x_2)) + \n",
    "  geom_point() + \n",
    "  geom_line(data = nd, aes(x = x_1, y = mu, color = x_2))"
   ],
   "id": "cell-fig-plotlmsimF"
  },
  {
   "cell_type": "code",
   "execution_count": null,
   "metadata": {},
   "outputs": [
    {
     "output_type": "display_data",
     "metadata": {},
     "data": {}
    }
   ],
   "source": [
    "nd <- data.frame(expand.grid('x_1' = seq(0, 1, by = .1), \n",
    "                             'x_2' = seq(0, 1, by = .1)))\n",
    "nd$mu <- predict(m, newdata = nd)\n",
    "ggplot(data = df, aes(x = x_1, y = mu, color = x_2)) + \n",
    "  geom_point() + \n",
    "  geom_line(data = nd, aes(x = x_1, y = mu, color = x_2, group = x_2))"
   ],
   "id": "cell-fig-plotlmsimG"
  },
  {
   "cell_type": "markdown",
   "metadata": {},
   "source": [
    "## Add-Ons\n",
    "\n",
    "### Add-On Linear Model: A) Stancode\n",
    "\n",
    "#### Stan Users Guide\n",
    "\n",
    "*Probabilistic Programming Languages* such as *Stan* ([Carpenter et al., 2017](#ref-CarpenterEtAl2017)) allow to `plug together` the single parts of a statistical regression model[1]:\n",
    "\n",
    "The following Stan-code is published [here](https://mc-stan.org/docs/stan-users-guide/regression.html) in the [Stan users guide](https://mc-stan.org/docs/stan-users-guide/index.html):\n",
    "\n",
    "[1] Which is actually pretty ‘readable’ if you get used to the structure for a simple model such the linear regression model."
   ],
   "id": "95293f79-8501-4322-8502-d1331cf26c80"
  },
  {
   "cell_type": "code",
   "execution_count": null,
   "metadata": {},
   "outputs": [
    {
     "output_type": "stream",
     "name": "stdout",
     "text": [
      "data {\n",
      "  int<lower=0> N;\n",
      "  vector[N] x;\n",
      "  vector[N] y;\n",
      "}\n",
      "parameters {\n",
      "  real alpha;\n",
      "  real beta;\n",
      "  real<lower=0> sigma;\n",
      "}\n",
      "model {\n",
      "  y ~ normal(alpha + beta * x, sigma);\n",
      "}"
     ]
    }
   ],
   "source": [
    "cat(readLines(\"lm.stan\"), sep = \"\\n\")"
   ],
   "id": "d8dfa4cc-5bc8-4194-9809-e415d6af4fbf"
  },
  {
   "cell_type": "markdown",
   "metadata": {},
   "source": [
    "#### Stancode generated by calling `brms::brm`\n",
    "\n",
    "The R add-on package *brms* ([Bürkner, 2017](#ref-Buerkner2017), [2018](#ref-Buerkner2018)) allows to implent advanced regression models without being an expert in ‘Stan-programming’.\n",
    "\n",
    "Here is the Stan-code that is implemented by ‘brms’ for our linear regression model example:"
   ],
   "id": "fa204dd0-a714-47a2-93ea-4156456b6acf"
  },
  {
   "cell_type": "code",
   "execution_count": null,
   "metadata": {},
   "outputs": [],
   "source": [
    "brms::make_stancode(brms::bf(y ~ x_1 + x_2, center = F), data = df)"
   ],
   "id": "6e05f319-99fb-40c1-a7a8-a3b1e3f4961b"
  },
  {
   "cell_type": "code",
   "execution_count": null,
   "metadata": {},
   "outputs": [
    {
     "output_type": "stream",
     "name": "stdout",
     "text": [
      "// generated with brms 2.21.0\n",
      "functions {\n",
      "}\n",
      "data {\n",
      "  int<lower=1> N;  // total number of observations\n",
      "  vector[N] Y;  // response variable\n",
      "  int<lower=1> K;  // number of population-level effects\n",
      "  matrix[N, K] X;  // population-level design matrix\n",
      "  int prior_only;  // should the likelihood be ignored?\n",
      "}\n",
      "transformed data {\n",
      "}\n",
      "parameters {\n",
      "  vector[K] b;  // regression coefficients\n",
      "  real<lower=0> sigma;  // dispersion parameter\n",
      "}\n",
      "transformed parameters {\n",
      "  real lprior = 0;  // prior contributions to the log posterior\n",
      "  lprior += student_t_lpdf(sigma | 3, 0, 2.5)\n",
      "    - 1 * student_t_lccdf(0 | 3, 0, 2.5);\n",
      "}\n",
      "model {\n",
      "  // likelihood including constants\n",
      "  if (!prior_only) {\n",
      "    target += normal_id_glm_lpdf(Y | X, 0, b, sigma);\n",
      "  }\n",
      "  // priors including constants\n",
      "  target += lprior;\n",
      "}\n",
      "generated quantities {\n",
      "}"
     ]
    }
   ],
   "source": [
    "cat(readLines(\"lm_brms.stan\"), sep = \"\\n\")"
   ],
   "id": "db755eff-0e7e-471a-8c1e-fe9dd4e4f9d5"
  },
  {
   "cell_type": "markdown",
   "metadata": {},
   "source": [
    "### Add-On Linear Model: B) Posterior predictive check: an introduction ‘by hand’\n",
    "\n",
    "Having an `lm` object already, it is rather straightforward to get posterior samples by using function `sim` from the *arm* ([Gelman & Su, 2024](#ref-GelmanSu2024)) package:"
   ],
   "id": "e6989fea-9548-42e2-a173-d1e9a961bed0"
  },
  {
   "cell_type": "code",
   "execution_count": null,
   "metadata": {},
   "outputs": [
    {
     "output_type": "stream",
     "name": "stderr",
     "text": [
      "Lade nötiges Paket: MASS"
     ]
    },
    {
     "output_type": "stream",
     "name": "stderr",
     "text": [
      "Lade nötiges Paket: Matrix"
     ]
    },
    {
     "output_type": "stream",
     "name": "stderr",
     "text": [
      "Lade nötiges Paket: lme4"
     ]
    },
    {
     "output_type": "stream",
     "name": "stderr",
     "text": [
      "\n",
      "arm (Version 1.14-4, built: 2024-4-1)"
     ]
    },
    {
     "output_type": "stream",
     "name": "stderr",
     "text": [
      "Working directory is /home/hsennhenn/Dropbox/teaching/Statistical_Modeling_and_Advanced_Regression_Analyses"
     ]
    },
    {
     "output_type": "stream",
     "name": "stdout",
     "text": [
      "Formal class 'sim' [package \"arm\"] with 2 slots\n",
      "  ..@ coef : num [1:100, 1:3] 0.882 1.014 0.904 0.978 0.958 ...\n",
      "  .. ..- attr(*, \"dimnames\")=List of 2\n",
      "  .. .. ..$ : NULL\n",
      "  .. .. ..$ : chr [1:3] \"(Intercept)\" \"x_1\" \"x_2\"\n",
      "  ..@ sigma: num [1:100] 0.323 0.303 0.292 0.309 0.29 ..."
     ]
    },
    {
     "output_type": "stream",
     "name": "stdout",
     "text": [
      "     (Intercept)       x_1        x_2     sigma\n",
      "[1,]   0.8816414 0.9245094 -0.3362733 0.3227662\n",
      "[2,]   1.0139849 0.7317948 -0.3398411 0.3033703\n",
      "[3,]   0.9037042 0.9155575 -0.3506924 0.2922883\n",
      "[4,]   0.9776909 0.8392790 -0.3845609 0.3090220\n",
      "[5,]   0.9579213 0.8977625 -0.4284596 0.2900632\n",
      "[6,]   0.9549211 0.8478278 -0.3937226 0.3094227"
     ]
    }
   ],
   "source": [
    "library(\"arm\")"
   ],
   "id": "bb67b76a-5a25-42e4-aec1-0e6426318a50"
  },
  {
   "cell_type": "markdown",
   "metadata": {},
   "source": [
    "Predict the response for the covariate data as provided by the original data-frame `df` - here only by using the first posterior sample:"
   ],
   "id": "801a7428-498c-4109-ae59-a23c64848796"
  },
  {
   "cell_type": "code",
   "execution_count": null,
   "metadata": {},
   "outputs": [
    {
     "output_type": "stream",
     "name": "stdout",
     "text": [
      "(Intercept)         x_1         x_2       sigma \n",
      "  0.8816414   0.9245094  -0.3362733   0.3227662 "
     ]
    },
    {
     "output_type": "stream",
     "name": "stderr",
     "text": [
      "`stat_bin()` using `bins = 30`. Pick better value with `binwidth`."
     ]
    },
    {
     "output_type": "display_data",
     "metadata": {},
     "data": {}
    }
   ],
   "source": [
    "s <- 1\n",
    "S[s, ]"
   ],
   "id": "cell-fig-plotlmsimH"
  },
  {
   "cell_type": "markdown",
   "metadata": {},
   "source": [
    "Now let’s repeat the same for 9 different posterior samples:"
   ],
   "id": "6dc26c06-48d4-40ac-bab6-86522603bace"
  },
  {
   "cell_type": "code",
   "execution_count": null,
   "metadata": {},
   "outputs": [
    {
     "output_type": "stream",
     "name": "stderr",
     "text": [
      "`stat_bin()` using `bins = 30`. Pick better value with `binwidth`."
     ]
    },
    {
     "output_type": "display_data",
     "metadata": {},
     "data": {}
    }
   ],
   "source": [
    "pp <- NULL\n",
    "for (s in 1:9) {\n",
    "  mu_s <- S[s, '(Intercept)'] + S[s, 'x_1'] * df$x_1 + S[s, 'x_2'] * df$x_2\n",
    "  y_s <- rnorm(n = nrow(df), mean = mu_s, sd = S[s, 'sigma'])\n",
    "  pp <- rbind(pp, \n",
    "              data.frame(y = df$y, source = \"original\", s = s), \n",
    "              data.frame(y = y_s, source = \"predicted\", s = s))\n",
    "}\n",
    "ggplot(data = pp, aes(x = y, fill = source)) + \n",
    "  geom_histogram(alpha = .5, position = \"identity\") + \n",
    "  facet_wrap(~ s)"
   ],
   "id": "cell-fig-plotlmsimI"
  },
  {
   "cell_type": "code",
   "execution_count": null,
   "metadata": {},
   "outputs": [
    {
     "output_type": "display_data",
     "metadata": {},
     "data": {}
    }
   ],
   "source": [
    "ggplot(data = pp, aes(x = y, fill = source)) + \n",
    "  geom_density(alpha = .5, position = \"identity\") + \n",
    "  facet_wrap(~ s)"
   ],
   "id": "cell-fig-plotlmsimJ"
  },
  {
   "cell_type": "code",
   "execution_count": null,
   "metadata": {},
   "outputs": [
    {
     "output_type": "display_data",
     "metadata": {},
     "data": {}
    }
   ],
   "source": [
    "ggplot(data = pp, aes(x = y, colour = source)) + \n",
    "  stat_ecdf() + \n",
    "  facet_wrap(~ s)"
   ],
   "id": "cell-fig-plotlmsimK"
  },
  {
   "cell_type": "code",
   "execution_count": null,
   "metadata": {},
   "outputs": [
    {
     "output_type": "display_data",
     "metadata": {},
     "data": {}
    }
   ],
   "source": [
    "ggplot(data = subset(pp, source == \"predicted\"),\n",
    "       aes(x = y, group = s)) + \n",
    "  geom_density(position = \"identity\", fill = NA, colour = \"grey\") +\n",
    "  geom_density(data = subset(pp, source == \"original\" & s == 1), \n",
    "               aes(x = y), linewidth = 1)"
   ],
   "id": "cell-fig-plotlmsimL"
  },
  {
   "cell_type": "markdown",
   "metadata": {},
   "source": [
    "# References\n",
    "\n",
    "Allaire, J. J., Teague, C., Scheidegger, C., Xie, Y., & Dervieux, C. (2024). *Quarto (Version 1.4.553)*. <https://doi.org/10.5281/zenodo.5960048>\n",
    "\n",
    "Bürkner, P.-C. (2017). Brms: An R Package for Bayesian Multilevel Models Using Stan. *Journal of Statistical Software*, *80*, 1–28. <https://doi.org/10.18637/jss.v080.i01>\n",
    "\n",
    "Bürkner, P.-C. (2018). Advanced Bayesian Multilevel Modeling with the R Package brms. *The R Journal*, *10*(1), 395–411.\n",
    "\n",
    "Carpenter, B., Gelman, A., Hoffman, M. D., Lee, D., Goodrich, B., Betancourt, M., Brubaker, M., Guo, J., Li, P., & Riddell, A. (2017). Stan: A Probabilistic Programming Language. *Journal of Statistical Software*, *76*, 1–32. <https://doi.org/10.18637/jss.v076.i01>\n",
    "\n",
    "Gelman, A., & Su, Y.-S. (2024). *Arm: Data analysis using regression and multilevel/hierarchical models*. <https://CRAN.R-project.org/package=arm>\n",
    "\n",
    "R Core Team. (2024). *R: A Language and Environment for Statistical Computing (Version 4.4.1)*. R Foundation for Statistical Computing.\n",
    "\n",
    "Wickham, H. (2016). *ggplot2: Elegant graphics for data analysis*. Springer-Verlag New York. <https://ggplot2.tidyverse.org>"
   ],
   "id": "2016b179-07d6-4934-bf4f-7de5ce066be5"
  }
 ],
 "nbformat": 4,
 "nbformat_minor": 5,
 "metadata": {}
}
